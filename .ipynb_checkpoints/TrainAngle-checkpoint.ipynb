{
 "cells": [
  {
   "cell_type": "markdown",
   "metadata": {
    "id": "E4oP1z9rThbl"
   },
   "source": [
    "Source to following code: https://pythonprogramming.net/convolutional-neural-network-deep-learning-python-tensorflow-keras/\n",
    "<br>\n",
    "Second source is: https://towardsdatascience.com/deeppicar-part-5-lane-following-via-deep-learning-d93acdce6110"
   ]
  },
  {
   "cell_type": "code",
   "execution_count": null,
   "metadata": {
    "colab": {
     "base_uri": "https://localhost:8080/"
    },
    "id": "WqbtLkl9aV7l",
    "outputId": "723b4ec6-55e1-416a-b22e-5eb0129003d5"
   },
   "outputs": [
    {
     "name": "stdout",
     "output_type": "stream",
     "text": [
      "Mounted at /content/drive\n"
     ]
    }
   ],
   "source": [
    "# mount google drive\n",
    "from google.colab import drive\n",
    "drive.mount('/content/drive')"
   ]
  },
  {
   "cell_type": "code",
   "execution_count": null,
   "metadata": {
    "id": "Bq_BmJuDAXGc"
   },
   "outputs": [],
   "source": [
    "# %cd \"/content/drive/My Drive/AutonomousDriving/Github/AutonomousCars/data/training_data\""
   ]
  },
  {
   "cell_type": "code",
   "execution_count": null,
   "metadata": {
    "id": "BRsW3nrZB0-j"
   },
   "outputs": [],
   "source": [
    "# trainFrame = pd.read_csv(\"/content/drive/My Drive/AutonomousDriving/Github/AutonomousCars/data/training_norm.csv\")\n",
    "# trainFrame.set_index(\"image_id\", inplace=True)\n",
    "# idx = trainFrame.index"
   ]
  },
  {
   "cell_type": "code",
   "execution_count": null,
   "metadata": {
    "id": "cJPxZ_EY-P-m"
   },
   "outputs": [],
   "source": [
    "# def create_dataset_PIL(img_folder):\n",
    "  \n",
    "\n",
    "#   start = time.time()\n",
    "#   img_data_array=[]\n",
    "#   iter = 0\n",
    "#   for file in os.listdir(img_folder):\n",
    "       \n",
    "#     image_path= os.path.join(img_folder, file)\n",
    "#     image= np.array(Image.open(image_path))\n",
    "#         # image= np.resize(image,(IMG_HEIGHT,IMG_WIDTH,3))\n",
    "#     image = image.astype('float32')\n",
    "#         # image /= 255  \n",
    "#     img_data_array.append(image)\n",
    "#     iter+=1\n",
    "#     if iter%1000 == 0:\n",
    "#       print(iter)\n",
    "#     if iter > 3000:\n",
    "#       break\n",
    "#   end = time.time()\n",
    "  \n",
    "#   print(f\"Time taken: {end - start}\")\n",
    "#   return img_data_array\n",
    "# PIL_img_data=create_dataset_PIL(trainDir)"
   ]
  },
  {
   "cell_type": "code",
   "execution_count": null,
   "metadata": {
    "id": "KQL2HHfUaoTa"
   },
   "outputs": [],
   "source": [
    "try:\n",
    "  # %tensorflow_version only exists in Colab.\n",
    "  %tensorflow_version 2.x\n",
    "except Exception:\n",
    "  pass"
   ]
  },
  {
   "cell_type": "code",
   "execution_count": null,
   "metadata": {
    "id": "mbONPD1gaqeB"
   },
   "outputs": [],
   "source": [
    "import tensorflow as tf\n",
    "from tensorflow.keras.preprocessing.image import ImageDataGenerator\n",
    "from tensorflow.keras.models import Sequential\n",
    "from tensorflow.keras.layers import Dense, Dropout, Activation, Flatten\n",
    "from tensorflow.keras.layers import Conv2D, MaxPooling2D\n",
    "from tensorflow.keras.callbacks import EarlyStopping\n",
    "from tensorflow.keras.models import load_model\n",
    "\n",
    "from keras.optimizers import Adam\n",
    "\n",
    "import matplotlib.pyplot as plt\n",
    "%matplotlib inline\n",
    "import numpy as np\n",
    "import pandas as pd\n",
    "\n",
    "from sklearn.model_selection import train_test_split \n",
    "from sklearn.utils import shuffle\n",
    "\n",
    "import statistics\n",
    "import gc # Helps to clear up some ram\n",
    "\n",
    "import cv2\n",
    "from numpy import random\n",
    "from imgaug import augmenters as img_aug\n",
    "\n",
    "import math\n",
    "import os"
   ]
  },
  {
   "cell_type": "code",
   "execution_count": null,
   "metadata": {
    "id": "Qa9Be4Gza57a"
   },
   "outputs": [],
   "source": [
    "tf.random.set_seed(1)"
   ]
  },
  {
   "cell_type": "code",
   "execution_count": null,
   "metadata": {
    "id": "b8CXsMZ8bLhy"
   },
   "outputs": [],
   "source": [
    "import pickle\n",
    "\n",
    "path = \"/content/drive/My Drive/AutonomousDriving\"\n",
    "pickle_in = open(path+\"/trainColour.pickle\",\"rb\")\n",
    "# Remove binary version\n",
    "trainImagesAndLabels = pickle.load(pickle_in)\n",
    "\n",
    "imageId = []\n",
    "X = []\n",
    "y_angle = []\n",
    "y_speed = []\n",
    "for id,image,lbl_angle,lbl_speed in trainImagesAndLabels:\n",
    "  #checking = image\n",
    "  if np.count_nonzero(pd.isnull(image)): \n",
    "    print(\"NA: This image was not read well so we will skip for now\")\n",
    "  else:\n",
    "    imageId.append(id)\n",
    "    X.append(image)\n",
    "    y_angle.append(lbl_angle)\n",
    "    y_speed.append(lbl_speed)"
   ]
  },
  {
   "cell_type": "markdown",
   "metadata": {
    "id": "DN4f-rGJML0l"
   },
   "source": [
    "Standard deviation of the angles"
   ]
  },
  {
   "cell_type": "code",
   "execution_count": null,
   "metadata": {
    "colab": {
     "base_uri": "https://localhost:8080/",
     "height": 283
    },
    "id": "AI1Gn6MeNBIe",
    "outputId": "b94746a2-64cc-4313-d88a-d3854b9dcb81"
   },
   "outputs": [
    {
     "data": {
      "text/plain": [
       "0.15555820377620497"
      ]
     },
     "execution_count": 9,
     "metadata": {
      "tags": []
     },
     "output_type": "execute_result"
    },
    {
     "data": {
      "image/png": "[encoded data removed]",
      "text/plain": [
       "<Figure size 432x288 with 1 Axes>"
      ]
     },
     "metadata": {
      "needs_background": "light",
      "tags": []
     },
     "output_type": "display_data"
    }
   ],
   "source": [
    "plt.hist(y_angle)\n",
    "statistics.stdev(y_angle)"
   ]
  },
  {
   "cell_type": "code",
   "execution_count": null,
   "metadata": {
    "id": "WRL3lMMfbwZa"
   },
   "outputs": [],
   "source": [
    "def pan(image):\n",
    "    # pan left / right / up / down about 10%\n",
    "    pan = img_aug.Affine(translate_percent= {\"x\" : (-0.1, 0.1), \"y\": (-0.1, 0.1)})\n",
    "    image = pan.augment_image(image)\n",
    "    return image\n",
    "    \n",
    "def zoom(image):\n",
    "    zoom = img_aug.Affine(scale=(1, 1.3))  # zoom from 100% (no zoom) to 130%\n",
    "    image = zoom.augment_image(image)\n",
    "    return image\n",
    "\n",
    "def adjust_brightness(image):\n",
    "    # increase or decrease brightness by 30%\n",
    "    brightness = img_aug.Multiply((0.7, 1.3))\n",
    "    image = brightness.augment_image(image)\n",
    "    return image\n",
    "\n",
    "def blur(image):\n",
    "    kernel_size = random.randint(1, 5)  # kernel larger than 5 would make the image way too blurry\n",
    "    image = cv2.blur(image,(kernel_size, kernel_size))\n",
    "   \n",
    "    return image\n",
    "\n",
    "\n",
    "def random_flip(image, steering_angle):\n",
    "    is_flip = random.randint(0, 1)\n",
    "    if is_flip == 1:\n",
    "        # randomly flip horizon\n",
    "        image = cv2.flip(image,1)\n",
    "        steering_angle = 180 - steering_angle\n",
    "   \n",
    "    return image, steering_angle"
   ]
  },
  {
   "cell_type": "code",
   "execution_count": null,
   "metadata": {
    "id": "-k9m29RzXlVg"
   },
   "outputs": [],
   "source": [
    "def random_augment(image, steering_angle):\n",
    "  \n",
    "    if np.random.rand() < 0.5:\n",
    "        image = pan(image)\n",
    "    if np.random.rand() < 0.5:\n",
    "        image = zoom(image)\n",
    "    if np.random.rand() < 0.5:\n",
    "        image = blur(image)\n",
    "    if np.random.rand() < 0.5:\n",
    "        image = adjust_brightness(image)\n",
    "    image, steering_angle = random_flip(image, steering_angle)\n",
    "    \n",
    "    return image, steering_angle\n",
    "# imageId = np.array(imageId)"
   ]
  },
  {
   "cell_type": "code",
   "execution_count": null,
   "metadata": {
    "id": "g8NzgqqfXmdj"
   },
   "outputs": [],
   "source": [
    "smallAngles=(np.where(np.array(y_angle)<0.5)[0])\n",
    "largeAngles=(np.where(np.array(y_angle)>=0.8)[0])\n",
    "tinyAngles=(np.where(np.array(y_angle)<0.3)[0])\n",
    "hugeAngles=(np.where(np.array(y_angle)>=0.9)[0])\n",
    "augmentedImages = []\n",
    "augmentedAngles = []\n",
    "augmentedID = []\n",
    "for idx in smallAngles:\n",
    "  image, angle = random_augment(X[idx], y_angle[idx])\n",
    "  augmentedImages.append(image)\n",
    "  augmentedAngles.append(angle)\n",
    "  augmentedID.append(imageId[idx])"
   ]
  },
  {
   "cell_type": "code",
   "execution_count": null,
   "metadata": {
    "id": "OAh4Qm3InEa6"
   },
   "outputs": [],
   "source": [
    "for idx in hugeAngles:\n",
    "  for _ in range(4):\n",
    "    image, angle = random_augment(X[idx], y_angle[idx])\n",
    "    augmentedImages.append(image)\n",
    "    augmentedAngles.append(angle)\n",
    "    augmentedID.append(imageId[idx])"
   ]
  },
  {
   "cell_type": "code",
   "execution_count": null,
   "metadata": {
    "id": "u_W1wyaojEjC"
   },
   "outputs": [],
   "source": [
    "for idx in tinyAngles:\n",
    "  for _ in range(4):\n",
    "    image, angle = random_augment(X[idx], y_angle[idx])\n",
    "    augmentedImages.append(image)\n",
    "    augmentedAngles.append(angle)\n",
    "    augmentedID.append(imageId[idx])"
   ]
  },
  {
   "cell_type": "code",
   "execution_count": null,
   "metadata": {
    "id": "mBTwL_FSc29o"
   },
   "outputs": [],
   "source": [
    "for idx in largeAngles:\n",
    "  image, angle = random_augment(X[idx], y_angle[idx])\n",
    "  augmentedImages.append(image)\n",
    "  augmentedAngles.append(angle)\n",
    "  augmentedID.append(imageId[idx])"
   ]
  },
  {
   "cell_type": "markdown",
   "metadata": {
    "id": "iNG3bBHRdwWd"
   },
   "source": [
    "Hist before augmentation"
   ]
  },
  {
   "cell_type": "code",
   "execution_count": null,
   "metadata": {
    "colab": {
     "base_uri": "https://localhost:8080/",
     "height": 283
    },
    "id": "_WIHzvBWdvIj",
    "outputId": "f0a749fa-b288-4928-eaaf-806acdb0b2bd"
   },
   "outputs": [
    {
     "data": {
      "text/plain": [
       "0.15555820377620497"
      ]
     },
     "execution_count": 16,
     "metadata": {
      "tags": []
     },
     "output_type": "execute_result"
    },
    {
     "data": {
      "image/png": "[encoded data removed]",
      "text/plain": [
       "<Figure size 432x288 with 1 Axes>"
      ]
     },
     "metadata": {
      "needs_background": "light",
      "tags": []
     },
     "output_type": "display_data"
    }
   ],
   "source": [
    "plt.hist(y_angle)\n",
    "statistics.stdev(y_angle)"
   ]
  },
  {
   "cell_type": "markdown",
   "metadata": {
    "id": "GhRi4RcWd18_"
   },
   "source": [
    "Hist after augmentation"
   ]
  },
  {
   "cell_type": "code",
   "execution_count": null,
   "metadata": {
    "id": "ZMUzEaSdd1SD"
   },
   "outputs": [],
   "source": [
    "for idx in range(len(augmentedAngles)):\n",
    "  y_angle.append(augmentedAngles[idx])\n",
    "  X.append(augmentedImages[idx])\n",
    "  imageId.append(augmentedID[idx])"
   ]
  },
  {
   "cell_type": "code",
   "execution_count": null,
   "metadata": {
    "colab": {
     "base_uri": "https://localhost:8080/",
     "height": 283
    },
    "id": "ofJ9GNwQfWUV",
    "outputId": "82678e92-8d3a-4e5d-e618-3c5c05c285b9"
   },
   "outputs": [
    {
     "data": {
      "text/plain": [
       "0.21729084349718852"
      ]
     },
     "execution_count": 18,
     "metadata": {
      "tags": []
     },
     "output_type": "execute_result"
    },
    {
     "data": {
      "image/png": "[encoded data removed]",
      "text/plain": [
       "<Figure size 432x288 with 1 Axes>"
      ]
     },
     "metadata": {
      "needs_background": "light",
      "tags": []
     },
     "output_type": "display_data"
    }
   ],
   "source": [
    "plt.hist(np.array(y_angle))\n",
    "statistics.stdev(y_angle)"
   ]
  },
  {
   "cell_type": "code",
   "execution_count": null,
   "metadata": {
    "colab": {
     "base_uri": "https://localhost:8080/"
    },
    "id": "ntiXiFXQeLz_",
    "outputId": "ee5da6db-6257-477d-cad2-2557111d36e8"
   },
   "outputs": [
    {
     "data": {
      "text/plain": [
       "[12, 34, 5, [325, 6, 4]]"
      ]
     },
     "execution_count": 19,
     "metadata": {
      "tags": []
     },
     "output_type": "execute_result"
    }
   ],
   "source": [
    "lst1 = [12,34,5]\n",
    "lst2=[325,6,4]\n",
    "lst1.append(lst2)\n",
    "lst1"
   ]
  },
  {
   "cell_type": "markdown",
   "metadata": {
    "id": "azXvmnZIxwvy"
   },
   "source": [
    "Now we can find how many duplicate angles there exist in the y_angles"
   ]
  },
  {
   "cell_type": "code",
   "execution_count": null,
   "metadata": {
    "id": "ytzQZ6vVyNGy"
   },
   "outputs": [],
   "source": [
    "# (unique, counts) = np.unique(y_angle, return_counts=True)"
   ]
  },
  {
   "cell_type": "code",
   "execution_count": null,
   "metadata": {
    "id": "novfjtpJzfxY"
   },
   "outputs": [],
   "source": [
    "# print(\"Unique angles =\",len(unique))\n",
    "# print(\"The total length of the angle array is\",len(y_angle))"
   ]
  },
  {
   "cell_type": "code",
   "execution_count": null,
   "metadata": {
    "id": "ILuH5H0m0ZL6"
   },
   "outputs": [],
   "source": [
    "# print( np.asarray((unique, counts)).T )"
   ]
  },
  {
   "cell_type": "code",
   "execution_count": null,
   "metadata": {
    "id": "QHq22Sa7ADQz"
   },
   "outputs": [],
   "source": [
    "# print(y_angle)\n",
    "# print(imageId)"
   ]
  },
  {
   "cell_type": "markdown",
   "metadata": {
    "id": "TgwIYCf91GIg"
   },
   "source": [
    "The fact that there are only 17 angles allows us to only use some images"
   ]
  },
  {
   "cell_type": "code",
   "execution_count": null,
   "metadata": {
    "id": "juyO6ri_KcvH"
   },
   "outputs": [],
   "source": [
    "# def smallerDatasetCreation(image_array,anlge_array,unique_angle, maximumNumberOfImagesForAnyAngle, id_array):\n",
    "#   index = np.where(anlge_array == unique_angle)\n",
    "#   index = index[0]\n",
    "#   print(f\"{index} shape {type(index)}\")\n",
    "#   id_array=np.array(id_array)\n",
    "#   image_array = np.array(image_array)\n",
    "#   idOfImages = id_array[index]\n",
    "#   image_array_new = image_array[index,:,:,:]\n",
    "#   image_array_new = image_array_new.reshape(image_array_new.shape[0],image_array_new.shape[1],image_array_new.shape[2],image_array_new.shape[3])\n",
    "#   #print(image_array_new.shape)\n",
    "#   if image_array_new.shape[0] > maximumNumberOfImagesForAnyAngle: # If more than X pictures exist for the specific angle then:\n",
    "#     # Shuffle images\n",
    "#     image_array_new,idOfImages = shuffle(image_array_new,idOfImages)\n",
    "#     image_array_new,idOfImages = shuffle(image_array_new,idOfImages)\n",
    "\n",
    "#     image_array_new = image_array_new[0:maximumNumberOfImagesForAnyAngle,:,:,:]\n",
    "#     idOfImages = id_array[0:maximumNumberOfImagesForAnyAngle]\n",
    "#     #print(image_array_new.shape)\n",
    "#   return(image_array_new, idOfImages)"
   ]
  },
  {
   "cell_type": "code",
   "execution_count": null,
   "metadata": {
    "id": "0NVuqpEiMBYr"
   },
   "outputs": [],
   "source": [
    "# X_new = []\n",
    "# y_angle_new = []\n",
    "# idImage = []\n",
    "# totalNumberOfImages = 0\n",
    "# maxNumberOfImages = 99\n",
    "\n",
    "# for uniqueAngle in unique:\n",
    "#     X_reduced, id = smallerDatasetCreation(X,y_angle,uniqueAngle,maxNumberOfImages, imageId)\n",
    "#     totalNumberOfImages = totalNumberOfImages + X_reduced.shape[0]\n",
    "\n",
    "#     print(totalNumberOfImages)\n",
    "#     #print(X_reduced.shape[0])\n",
    "#     X_new.extend(X_reduced)\n",
    "#     idImage.extend(id)\n",
    "    \n",
    "#     # Create also new y_angle array to match the X\n",
    "#     #y_angle_new.extend(np.ones(X_reduced.shape[0]) * uniqueAngle)\n",
    "#     y_angle_new.extend(np.ones(X_reduced.shape[0]) * uniqueAngle)\n",
    "\n",
    "#     #idImage.append()\n",
    "#     #print(uniqueAngle)"
   ]
  },
  {
   "cell_type": "code",
   "execution_count": null,
   "metadata": {
    "id": "UopdowkSSTNi"
   },
   "outputs": [],
   "source": [
    "X_new = X\n",
    "y_angle_new = y_angle\n",
    "idImage = imageId\n",
    "del X\n",
    "del y_angle\n",
    "del imageId"
   ]
  },
  {
   "cell_type": "code",
   "execution_count": null,
   "metadata": {
    "id": "CesI0uwdNNAh"
   },
   "outputs": [],
   "source": [
    "# print(idImage[0])\n",
    "# print(y_angle_new[0])\n",
    "# plt.imshow(X_new[0])"
   ]
  },
  {
   "cell_type": "code",
   "execution_count": null,
   "metadata": {
    "id": "tZN9lKo_lXYq"
   },
   "outputs": [],
   "source": [
    "# print(len(X_new))\n",
    "# print(len(y_angle_new))\n",
    "# print(len(idImage))"
   ]
  },
  {
   "cell_type": "code",
   "execution_count": null,
   "metadata": {
    "id": "11h4n49QZ8Aw"
   },
   "outputs": [],
   "source": [
    "X_new = np.array(X_new)\n",
    "y_angle_new = np.array(y_angle_new)\n",
    "idImage = np.array(idImage)\n",
    "# print(X_new.shape)\n",
    "# print(y_angle_new.shape)\n",
    "# print(idImage.shape)"
   ]
  },
  {
   "cell_type": "code",
   "execution_count": null,
   "metadata": {
    "id": "irHogzFCABqi"
   },
   "outputs": [],
   "source": [
    "# plt.imshow(PIL_img_data[2].astype('uint8'))\n",
    "# print(y.iloc[2])\n"
   ]
  },
  {
   "cell_type": "markdown",
   "metadata": {
    "id": "itULCrLif3_4"
   },
   "source": [
    "Shuffle the two X_new and y_angle arrays. Note that sklearn shuffle allows us to shuffle two arrays as they were together"
   ]
  },
  {
   "cell_type": "code",
   "execution_count": null,
   "metadata": {
    "id": "gl6No_iyf7qc"
   },
   "outputs": [],
   "source": [
    "# # Triple shuffling\n",
    "# X_new, y_angle_new,idImage = shuffle(X_new, y_angle_new,idImage)\n",
    "# X_new, y_angle_new,idImage = shuffle(X_new, y_angle_new,idImage)\n",
    "# X_new, y_angle_new,idImage = shuffle(X_new, y_angle_new,idImage)"
   ]
  },
  {
   "cell_type": "markdown",
   "metadata": {
    "id": "zsr6OUWipy7l"
   },
   "source": [
    "Preprocces images to scale, normalize change RGB to YUV and add gaussian noise"
   ]
  },
  {
   "cell_type": "code",
   "execution_count": null,
   "metadata": {
    "id": "e-Fy5sMpE01m"
   },
   "outputs": [],
   "source": [
    "def img_preprocess(image):\n",
    "    height, _, _ = image.shape\n",
    "\n",
    "    # in the case that there exists an object in the image of interest DO NOT MAKE reduce the height of the image!!\n",
    "\n",
    "    image = image[int(height/2):,:,:]  # remove top half of the image, as it is not relevant for lane following\n",
    "    image = cv2.cvtColor(image, cv2.COLOR_RGB2YUV)  # Nvidia model said it is best to use YUV color space\n",
    "    image = cv2.GaussianBlur(image, (3,3), 0) # Gaussian Noise / filtering\n",
    "    image = cv2.resize(image, (200,66)) # input image size (200,66) Nvidia model\n",
    "    image = image / 255 # normalizing\n",
    "    # Round everything into the image to 1 decimal place\n",
    "    image = np.around(image ,2)\n",
    "    return image"
   ]
  },
  {
   "cell_type": "code",
   "execution_count": null,
   "metadata": {
    "id": "II_uY56MpqJK"
   },
   "outputs": [],
   "source": [
    "# for idx in range(len(X_new)):\n",
    "#   if X_new[idx].shape == (240,320,4):\n",
    "#     X_new[idx] = X_new[idx][:,:,0:3]\n",
    "X_final = []\n",
    "for img_index in range(X_new.shape[0] ):\n",
    "  X_f = img_preprocess(X_new[img_index,:,:,:])\n",
    "  X_final.append(X_f)"
   ]
  },
  {
   "cell_type": "code",
   "execution_count": null,
   "metadata": {
    "id": "CB1BaRBjrUPn"
   },
   "outputs": [],
   "source": [
    "X_final = np.array(X_final)\n",
    "# X_final = np.array(X_final, dtype=np.float16)"
   ]
  },
  {
   "cell_type": "code",
   "execution_count": null,
   "metadata": {
    "colab": {
     "base_uri": "https://localhost:8080/",
     "height": 197
    },
    "id": "UGmVQgKnLyWD",
    "outputId": "fd8a5ec3-ecad-4412-f05e-56147f6b3f13"
   },
   "outputs": [
    {
     "name": "stdout",
     "output_type": "stream",
     "text": [
      "91\n",
      "0.8125\n"
     ]
    },
    {
     "data": {
      "image/png": "[encoded data removed]",
      "text/plain": [
       "<Figure size 432x288 with 1 Axes>"
      ]
     },
     "metadata": {
      "needs_background": "light",
      "tags": []
     },
     "output_type": "display_data"
    }
   ],
   "source": [
    "plt.imshow(X_final[1])\n",
    "print(idImage[1])\n",
    "print(y_angle_new[1])"
   ]
  },
  {
   "cell_type": "markdown",
   "metadata": {
    "id": "AngAeTNDHAzJ"
   },
   "source": [
    "### Run cell below for training\n",
    "### Run two cells below for creating final model"
   ]
  },
  {
   "cell_type": "code",
   "execution_count": null,
   "metadata": {
    "id": "6tCXVgZHGrMU"
   },
   "outputs": [],
   "source": [
    "# X_train, X_test, y_train, y_test = train_test_split( X_final, y_angle_new, test_size=0.1, random_state=42)"
   ]
  },
  {
   "cell_type": "code",
   "execution_count": null,
   "metadata": {
    "id": "vYqq08muoicX"
   },
   "outputs": [],
   "source": [
    "#shuffle x and y together\n",
    "perms = np.random.permutation(len(X_final))\n",
    "X_train = X_final[perms]\n",
    "y_train = y_angle_new[perms]"
   ]
  },
  {
   "cell_type": "code",
   "execution_count": null,
   "metadata": {
    "id": "lQSArvBRVDG3"
   },
   "outputs": [],
   "source": [
    "del y_angle_new\n",
    "del X_final"
   ]
  },
  {
   "cell_type": "code",
   "execution_count": null,
   "metadata": {
    "id": "KzmwoMX69ZJh"
   },
   "outputs": [],
   "source": [
    "# plt.imshow(X_train[22])#,:,:,:])\n",
    "# print(y_train[22])\n",
    "# #print(idImage[21])"
   ]
  },
  {
   "cell_type": "code",
   "execution_count": null,
   "metadata": {
    "colab": {
     "base_uri": "https://localhost:8080/"
    },
    "id": "T3QsocHmqtdI",
    "outputId": "a1537545-ac53-41f5-93e8-126e79bd171e"
   },
   "outputs": [
    {
     "name": "stdout",
     "output_type": "stream",
     "text": [
      "(19794, 66, 200, 3)\n",
      "(19794,)\n",
      "(19794, 1)\n"
     ]
    }
   ],
   "source": [
    "print(X_train.shape)\n",
    "tf_y_train = tf.reshape(y_train,[ y_train.shape[0] ,1 ]).numpy()\n",
    "print(y_train.shape)\n",
    "print(tf_y_train.shape)"
   ]
  },
  {
   "cell_type": "code",
   "execution_count": null,
   "metadata": {
    "colab": {
     "base_uri": "https://localhost:8080/"
    },
    "id": "zTCGDtJKFV3N",
    "outputId": "6cc8ebb2-0a14-4768-fa30-046f6e44eeee"
   },
   "outputs": [
    {
     "name": "stdout",
     "output_type": "stream",
     "text": [
      "Model: \"Nvidia_Model\"\n",
      "_________________________________________________________________\n",
      "Layer (type)                 Output Shape              Param #   \n",
      "=================================================================\n",
      "conv2d_5 (Conv2D)            (None, 31, 98, 24)        1824      \n",
      "_________________________________________________________________\n",
      "conv2d_6 (Conv2D)            (None, 14, 47, 36)        21636     \n",
      "_________________________________________________________________\n",
      "conv2d_7 (Conv2D)            (None, 5, 22, 48)         43248     \n",
      "_________________________________________________________________\n",
      "conv2d_8 (Conv2D)            (None, 3, 20, 64)         27712     \n",
      "_________________________________________________________________\n",
      "conv2d_9 (Conv2D)            (None, 1, 18, 64)         36928     \n",
      "_________________________________________________________________\n",
      "flatten_1 (Flatten)          (None, 1152)              0         \n",
      "_________________________________________________________________\n",
      "dropout_2 (Dropout)          (None, 1152)              0         \n",
      "_________________________________________________________________\n",
      "dense_4 (Dense)              (None, 100)               115300    \n",
      "_________________________________________________________________\n",
      "dropout_3 (Dropout)          (None, 100)               0         \n",
      "_________________________________________________________________\n",
      "dense_5 (Dense)              (None, 50)                5050      \n",
      "_________________________________________________________________\n",
      "dense_6 (Dense)              (None, 10)                510       \n",
      "_________________________________________________________________\n",
      "dense_7 (Dense)              (None, 1)                 11        \n",
      "=================================================================\n",
      "Total params: 252,219\n",
      "Trainable params: 252,219\n",
      "Non-trainable params: 0\n",
      "_________________________________________________________________\n",
      "None\n"
     ]
    }
   ],
   "source": [
    "def nvidia_model():\n",
    "    model = Sequential(name='Nvidia_Model')\n",
    "    \n",
    "    # elu=Exponential Linear Unit, similar to leaky Relu\n",
    "    # skipping 1st hiddel layer (nomralization layer), as we have normalized the data\n",
    "    \n",
    "    # Convolution Layers\n",
    "    model.add(Conv2D(24, (5, 5), strides=(2, 2), input_shape=(X_train.shape[1], X_train.shape[2], X_train.shape[3]), activation='elu')) \n",
    "    #model.add(Conv2D(24, (5, 5), strides=(2, 2), input_shape=(120, 320, 3), activation='elu')) \n",
    "    model.add(Conv2D(36, (5, 5), strides=(2, 2), activation='elu')) \n",
    "    model.add(Conv2D(48, (5, 5), strides=(2, 2), activation='elu')) \n",
    "    model.add(Conv2D(64, (3, 3), activation='elu')) \n",
    "    #model.add(Dropout(0.2)) # not in original model. added for more robustness\n",
    "    model.add(Conv2D(64, (3, 3), activation='elu')) \n",
    "    \n",
    "    # Fully Connected Layers\n",
    "    model.add(Flatten())\n",
    "    #model.add(Dropout(0.1))\n",
    "    #model.add(Dense(200, activation='elu')) # NOT PART OF NVIDIA\n",
    "    #model.add(Dense(200, activation='elu'))\n",
    "\n",
    "    model.add(Dropout(0.1)) # not in original model. added for more robustness\n",
    "    model.add(Dense(100, activation='elu'))\n",
    "    #model.add(Dense(100, activation='elu'))\n",
    "    model.add(Dropout(0.1))\n",
    "    model.add(Dense(50, activation='elu'))\n",
    "    #model.add(Dense(50, activation='elu'))\n",
    "    #model.add(Dropout(0.05))\n",
    "    model.add(Dense(10, activation='elu'))\n",
    "    #model.add(Dense(10, activation='elu'))\n",
    "    \n",
    "    # output layer: turn angle (from 45-135, 90 is straight, <90 turn left, >90 turn right)\n",
    "    model.add(Dense(1)) \n",
    "    \n",
    "    # since this is a regression problem not classification problem,\n",
    "    # we use MSE (Mean Squared Error) as loss function\n",
    "    #optimizer = Adam(lr=1e-7) # lr is learning rate\n",
    "    optimizer = Adam(lr=1e-3)\n",
    "    model.compile(loss='mse', optimizer=optimizer)\n",
    "    \n",
    "    return model\n",
    "\n",
    "model = nvidia_model()\n",
    "print(model.summary())"
   ]
  },
  {
   "cell_type": "code",
   "execution_count": null,
   "metadata": {
    "id": "c5uNaoOaGDcr"
   },
   "outputs": [],
   "source": [
    "monitor = EarlyStopping(monitor='val_loss', min_delta=1e-3, \n",
    "        patience=7, verbose=1, mode='auto',\n",
    "        restore_best_weights=True)\n",
    "model.fit(X_train, tf_y_train, batch_size=128, epochs=100, validation_split=0.2,callbacks=[monitor])"
   ]
  },
  {
   "cell_type": "code",
   "execution_count": null,
   "metadata": {
    "colab": {
     "base_uri": "https://localhost:8080/"
    },
    "id": "gHXESiwbmNOi",
    "outputId": "54f4d933-4230-4794-dc0b-6ae4562b5da3"
   },
   "outputs": [
    {
     "name": "stdout",
     "output_type": "stream",
     "text": [
      "62/62 [==============================] - 1s 8ms/step - loss: 0.0134\n"
     ]
    },
    {
     "data": {
      "text/plain": [
       "0.013384060002863407"
      ]
     },
     "execution_count": 42,
     "metadata": {
      "tags": []
     },
     "output_type": "execute_result"
    }
   ],
   "source": [
    "# model.evaluate(x=X_test,y=y_test)"
   ]
  },
  {
   "cell_type": "code",
   "execution_count": null,
   "metadata": {
    "id": "IFugzsUCWD6x"
   },
   "outputs": [],
   "source": [
    "steering_angle = model.predict(X_test)"
   ]
  },
  {
   "cell_type": "code",
   "execution_count": null,
   "metadata": {
    "colab": {
     "base_uri": "https://localhost:8080/"
    },
    "id": "IrGBRCxat8AN",
    "outputId": "3358dbd5-1ff1-4f31-f8a8-3cd85a63599a"
   },
   "outputs": [
    {
     "data": {
      "text/plain": [
       "(1980, 66, 200, 3)"
      ]
     },
     "execution_count": 60,
     "metadata": {
      "tags": []
     },
     "output_type": "execute_result"
    }
   ],
   "source": [
    "X_test.shape"
   ]
  },
  {
   "cell_type": "code",
   "execution_count": null,
   "metadata": {
    "colab": {
     "base_uri": "https://localhost:8080/"
    },
    "id": "MKF5Qh9fnhuQ",
    "outputId": "e29e957f-1e16-4a92-a688-d2485510873c"
   },
   "outputs": [
    {
     "data": {
      "text/plain": [
       "11825"
      ]
     },
     "execution_count": 64,
     "metadata": {
      "tags": []
     },
     "output_type": "execute_result"
    }
   ],
   "source": [
    "gc.collect()"
   ]
  },
  {
   "cell_type": "code",
   "execution_count": null,
   "metadata": {
    "id": "u6iHnE1yXBh8"
   },
   "outputs": [],
   "source": [
    "for i in range(y_test.shape[0]):  \n",
    "  #print([steering_angle[i][0], tf_y_angle[i][0]])\n",
    "  print([steering_angle[i][0], y_test[i] ])"
   ]
  },
  {
   "cell_type": "code",
   "execution_count": null,
   "metadata": {
    "colab": {
     "base_uri": "https://localhost:8080/",
     "height": 335
    },
    "id": "u8DWQcuLXWZa",
    "outputId": "f3ada706-d533-46bb-908c-706717eef45b"
   },
   "outputs": [
    {
     "data": {
      "text/plain": [
       "(array([ 528., 1182.,  624., 1282., 2934., 3655., 3970., 2123., 2896.,\n",
       "         200.]),\n",
       " array([0. , 0.1, 0.2, 0.3, 0.4, 0.5, 0.6, 0.7, 0.8, 0.9, 1. ]),\n",
       " <a list of 10 Patch objects>)"
      ]
     },
     "execution_count": 43,
     "metadata": {
      "tags": []
     },
     "output_type": "execute_result"
    },
    {
     "data": {
      "image/png": "[encoded data removed]",
      "text/plain": [
       "<Figure size 432x288 with 1 Axes>"
      ]
     },
     "metadata": {
      "needs_background": "light",
      "tags": []
     },
     "output_type": "display_data"
    }
   ],
   "source": [
    "plt.hist(y_angle_new)"
   ]
  },
  {
   "cell_type": "markdown",
   "metadata": {
    "id": "JM8rZ_tsVErl"
   },
   "source": [
    "Calculate the Mean squared error"
   ]
  },
  {
   "cell_type": "code",
   "execution_count": null,
   "metadata": {
    "colab": {
     "base_uri": "https://localhost:8080/"
    },
    "id": "NuMrW57kVDtt",
    "outputId": "1bf87e50-bc71-4e24-e89a-c3da9962bae3"
   },
   "outputs": [
    {
     "name": "stdout",
     "output_type": "stream",
     "text": [
      "1980\n",
      "0.012001457926274885\n"
     ]
    }
   ],
   "source": [
    "mseSum = 0\n",
    "print(y_test.shape[0])\n",
    "for i in range(y_test.shape[0]):\n",
    "  mseSum += (1/y_test.shape[0] ) *  (steering_angle[i][0] - y_test[i])**2\n",
    "print(mseSum)"
   ]
  },
  {
   "cell_type": "code",
   "execution_count": null,
   "metadata": {
    "id": "prH-bsTHprU2"
   },
   "outputs": [],
   "source": [
    "model.save(os.path.join(path,'Angle_prediction_model.h5'))"
   ]
  },
  {
   "cell_type": "code",
   "execution_count": null,
   "metadata": {
    "id": "idYlPkdaSN24"
   },
   "outputs": [],
   "source": [
    "del model"
   ]
  },
  {
   "cell_type": "code",
   "execution_count": null,
   "metadata": {
    "id": "6prK2hyYsXJC"
   },
   "outputs": [],
   "source": [
    "model = load_model(path+'/Angle_prediction_model.h5')"
   ]
  },
  {
   "cell_type": "markdown",
   "metadata": {
    "id": "sz68hBEbwaSs"
   },
   "source": [
    "Now save the model output"
   ]
  },
  {
   "cell_type": "code",
   "execution_count": null,
   "metadata": {
    "id": "FhLfjNZawcqG"
   },
   "outputs": [],
   "source": [
    "#import os\n",
    "# always save model output as soon as model finishes training\n",
    "#model.save(os.path.join(path,'angle_prediction.h5'))"
   ]
  },
  {
   "cell_type": "code",
   "execution_count": null,
   "metadata": {
    "id": "98lT73S6l6FH"
   },
   "outputs": [],
   "source": [
    "# model = Sequential()\n",
    "\n",
    "# model.add(Conv2D(32, (3, 3), input_shape=X.shape[1:]))\n",
    "# model.add(Activation('relu'))\n",
    "# model.add(MaxPooling2D(pool_size=(2, 2)))\n",
    "\n",
    "# model.add(Conv2D(32, (3, 3)))\n",
    "# model.add(Activation('relu'))\n",
    "# model.add(MaxPooling2D(pool_size=(2, 2)))\n",
    "\n",
    "# model.add(Flatten())  # this converts our 3D feature maps to 1D feature vectors\n",
    "\n",
    "# model.add(Dense(32))\n",
    "\n",
    "# model.add(Dense(1))\n",
    "# model.add(Activation('sigmoid'))\n",
    "\n",
    "# model.compile(loss='binary_crossentropy',\n",
    "#               optimizer='adam',\n",
    "#               metrics=['accuracy'])\n",
    "\n",
    "# model.fit(X, y_speed, batch_size=32, epochs=2, validation_split=0.8)"
   ]
  },
  {
   "cell_type": "markdown",
   "metadata": {
    "id": "ce6_nPCcS_Qm"
   },
   "source": [
    "Run the same model as above for angle prediction but change the loss function since we do not have classification. ALso accuracy is not a term to measure."
   ]
  },
  {
   "cell_type": "code",
   "execution_count": null,
   "metadata": {
    "id": "zCeEN-rkkr-Y"
   },
   "outputs": [],
   "source": [
    "#y_angle"
   ]
  },
  {
   "cell_type": "code",
   "execution_count": null,
   "metadata": {
    "id": "fpfoFSn5Td66"
   },
   "outputs": [],
   "source": [
    "# model = Sequential()\n",
    "\n",
    "# model.add(Conv2D(32, (3, 3), input_shape=X.shape[1:]))\n",
    "# model.add(Activation('relu'))\n",
    "# model.add(MaxPooling2D(pool_size=(2, 2)))\n",
    "\n",
    "# model.add(Conv2D(32, (3, 3)))\n",
    "# model.add(Activation('relu'))\n",
    "# model.add(MaxPooling2D(pool_size=(2, 2)))\n",
    "\n",
    "# model.add(Flatten())  # this converts our 3D feature maps to 1D feature vectors\n",
    "\n",
    "# model.add(Dense(64))\n",
    "\n",
    "# model.add(Dense(1))\n",
    "# model.add(Activation('sigmoid'))\n",
    "\n",
    "# model.compile(loss='mean_squared_error',\n",
    "#               optimizer='adam')\n",
    "\n",
    "# model.fit(X, y_angle, batch_size=32, epochs=2, validation_split=0.95)"
   ]
  }
 ],
 "metadata": {
  "accelerator": "TPU",
  "colab": {
   "collapsed_sections": [],
   "machine_shape": "hm",
   "name": "TrainAngle.ipynb",
   "provenance": []
  },
  "kernelspec": {
   "display_name": "Python 3",
   "language": "python",
   "name": "python3"
  },
  "language_info": {
   "codemirror_mode": {
    "name": "ipython",
    "version": 3
   },
   "file_extension": ".py",
   "mimetype": "text/x-python",
   "name": "python",
   "nbconvert_exporter": "python",
   "pygments_lexer": "ipython3",
   "version": "3.8.5"
  }
 },
 "nbformat": 4,
 "nbformat_minor": 1
}

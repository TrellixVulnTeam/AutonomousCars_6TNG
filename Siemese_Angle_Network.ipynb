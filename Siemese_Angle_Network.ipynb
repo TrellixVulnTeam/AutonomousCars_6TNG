{
  "nbformat": 4,
  "nbformat_minor": 0,
  "metadata": {
    "colab": {
      "name": "Siemese Angle Network.ipynb",
      "provenance": [],
      "collapsed_sections": [],
      "machine_shape": "hm"
    },
    "kernelspec": {
      "name": "python3",
      "display_name": "Python 3"
    },
    "language_info": {
      "name": "python"
    },
    "accelerator": "GPU"
  },
  "cells": [
    {
      "cell_type": "markdown",
      "metadata": {
        "id": "E4oP1z9rThbl"
      },
      "source": [
        "Source to following code: https://pythonprogramming.net/convolutional-neural-network-deep-learning-python-tensorflow-keras/\n",
        "<br>\n",
        "Second source is: https://towardsdatascience.com/deeppicar-part-5-lane-following-via-deep-learning-d93acdce6110"
      ]
    },
    {
      "cell_type": "code",
      "metadata": {
        "colab": {
          "base_uri": "https://localhost:8080/"
        },
        "id": "WqbtLkl9aV7l",
        "outputId": "c603f27f-91ae-44c2-a74d-7a4f530015a5"
      },
      "source": [
        "# mount google drive\n",
        "from google.colab import drive\n",
        "drive.mount('/content/drive')"
      ],
      "execution_count": 279,
      "outputs": [
        {
          "output_type": "stream",
          "text": [
            "Drive already mounted at /content/drive; to attempt to forcibly remount, call drive.mount(\"/content/drive\", force_remount=True).\n"
          ],
          "name": "stdout"
        }
      ]
    },
    {
      "cell_type": "code",
      "metadata": {
        "id": "Bq_BmJuDAXGc"
      },
      "source": [
        "# %cd \"/content/drive/My Drive/AutonomousDriving/Github/AutonomousCars/data/training_data\""
      ],
      "execution_count": 280,
      "outputs": []
    },
    {
      "cell_type": "code",
      "metadata": {
        "id": "KQL2HHfUaoTa"
      },
      "source": [
        "try:\n",
        "  # %tensorflow_version only exists in Colab.\n",
        "  %tensorflow_version 2.x\n",
        "except Exception:\n",
        "  pass"
      ],
      "execution_count": 281,
      "outputs": []
    },
    {
      "cell_type": "code",
      "metadata": {
        "id": "mbONPD1gaqeB"
      },
      "source": [
        "import tensorflow as tf\n",
        "from tensorflow.keras.preprocessing.image import ImageDataGenerator\n",
        "from tensorflow.keras.models import Sequential\n",
        "from tensorflow.keras.layers import Dense, Dropout, Activation, Flatten\n",
        "from tensorflow.keras.layers import Conv2D, MaxPooling2D\n",
        "from tensorflow.keras.callbacks import EarlyStopping\n",
        "from tensorflow.keras.models import load_model\n",
        "\n",
        "from keras.optimizers import Adam\n",
        "\n",
        "import matplotlib.pyplot as plt\n",
        "%matplotlib inline\n",
        "import numpy as np\n",
        "import pandas as pd\n",
        "\n",
        "from sklearn.model_selection import train_test_split \n",
        "from sklearn.utils import shuffle\n",
        "\n",
        "import statistics\n",
        "import gc # Helps to clear up some ram\n",
        "\n",
        "import cv2\n",
        "from numpy import random\n",
        "from imgaug import augmenters as img_aug\n",
        "\n",
        "import math\n",
        "import os"
      ],
      "execution_count": 282,
      "outputs": []
    },
    {
      "cell_type": "code",
      "metadata": {
        "id": "Qa9Be4Gza57a"
      },
      "source": [
        "tf.random.set_seed(1)"
      ],
      "execution_count": 283,
      "outputs": []
    },
    {
      "cell_type": "code",
      "metadata": {
        "id": "b8CXsMZ8bLhy"
      },
      "source": [
        "import pickle\n",
        "\n",
        "path = \"/content/drive/My Drive/AutonomousDriving\"\n",
        "pickle_in = open(path+\"/trainColour.pickle\",\"rb\")\n",
        "# Remove binary version\n",
        "trainImagesAndLabels = pickle.load(pickle_in)\n",
        "\n",
        "imageId = []\n",
        "bigImage = []\n",
        "y_angle = []\n",
        "y_speed = []\n",
        "for id,image,lbl_angle,lbl_speed in trainImagesAndLabels:\n",
        "  #checking = image\n",
        "  if np.count_nonzero(pd.isnull(image)): \n",
        "    print(\"NA: This image was not read well so we will skip for now\")\n",
        "  else:\n",
        "    imageId.append(id)\n",
        "    bigImage.append(image)\n",
        "    y_angle.append(lbl_angle)\n",
        "    y_speed.append(lbl_speed)"
      ],
      "execution_count": 284,
      "outputs": []
    },
    {
      "cell_type": "code",
      "metadata": {
        "id": "kTzpLjSIrrfr"
      },
      "source": [
        "import pickle\n",
        "\n",
        "path = \"/content/drive/My Drive/AutonomousDriving\"\n",
        "pickle_in = open(path+\"/boxTrainNumeric.pickle\",\"rb\")\n",
        "# Remove binary version\n",
        "trainImagesAndLabels = pickle.load(pickle_in)\n",
        "\n",
        "imageIdTest = []\n",
        "boxes = []\n",
        "classes = []\n",
        "for id,appendage in trainImagesAndLabels:\n",
        "    imageIdTest.append(id)\n",
        "    boxes.append(appendage[0])\n",
        "    classes.append(appendage[1])"
      ],
      "execution_count": 285,
      "outputs": []
    },
    {
      "cell_type": "code",
      "metadata": {
        "colab": {
          "base_uri": "https://localhost:8080/",
          "height": 51
        },
        "id": "fYcjwrL0vejG",
        "outputId": "738f626d-6eca-40be-baf0-b442a88fad54"
      },
      "source": [
        "\"\"\"\n",
        "{1: {'id': 1, 'name': 'person'},\n",
        " 2: {'id': 2, 'name': 'box'},\n",
        " 3: {'id': 3, 'name': 'green_traffic_light'},\n",
        " 4: {'id': 4, 'name': 'red_traffic_light'},\n",
        " 5: {'id': 5, 'name': 'tree'},\n",
        " 6: {'id': 6, 'name': 'right_sign'},\n",
        " 7: {'id': 7, 'name': 'left_sign'},\n",
        " 8: {'id': 8, 'name': 'red_traffiic_light'}}\n",
        "\"\"\""
      ],
      "execution_count": 286,
      "outputs": [
        {
          "output_type": "execute_result",
          "data": {
            "application/vnd.google.colaboratory.intrinsic+json": {
              "type": "string"
            },
            "text/plain": [
              "\"\\n{1: {'id': 1, 'name': 'person'},\\n 2: {'id': 2, 'name': 'box'},\\n 3: {'id': 3, 'name': 'green_traffic_light'},\\n 4: {'id': 4, 'name': 'red_traffic_light'},\\n 5: {'id': 5, 'name': 'tree'},\\n 6: {'id': 6, 'name': 'right_sign'},\\n 7: {'id': 7, 'name': 'left_sign'},\\n 8: {'id': 8, 'name': 'red_traffiic_light'}}\\n\""
            ]
          },
          "metadata": {
            "tags": []
          },
          "execution_count": 286
        }
      ]
    },
    {
      "cell_type": "code",
      "metadata": {
        "id": "GCk_256ee2lR"
      },
      "source": [
        "def shrinkImage(image):\n",
        "  height, _, _ = image.shape\n",
        "  image = image[int(height/2):,:,:]  # remove top half of the image, as it is not relevant for lane following\n",
        "  image = cv2.resize(image, (200,66)) # input image size (200,66) Nvidia model\n",
        "  return image"
      ],
      "execution_count": 287,
      "outputs": []
    },
    {
      "cell_type": "code",
      "metadata": {
        "id": "zd4J7jepfKnO"
      },
      "source": [
        "X = []\n",
        "for image in bigImage:\n",
        "  X.append(shrinkImage(image))\n",
        "del bigImage"
      ],
      "execution_count": 288,
      "outputs": []
    },
    {
      "cell_type": "code",
      "metadata": {
        "id": "UDJwoBO2IuYb"
      },
      "source": [
        "def meanArea(imageClass,box,classID):\n",
        "  index = np.where(imageClass == classID)[0]\n",
        "  areaArray = np.zeros(len(index))\n",
        "  \n",
        "  \n",
        "  for _ in range(len(index)):\n",
        "    idx = index[_]\n",
        "    area = (box[idx][3]-box[idx][1])*(box[idx][2]-box[idx][0])\n",
        "    \n",
        "    areaArray[_] = area\n",
        "\n",
        "    \n",
        "  meanArea = np.mean(areaArray)\n",
        "  return meanArea"
      ],
      "execution_count": 289,
      "outputs": []
    },
    {
      "cell_type": "code",
      "metadata": {
        "id": "QkKJuaa9HqOs"
      },
      "source": [
        "def assignSign(imageClass,box):  \n",
        "  \"\"\"\n",
        "  0 = no sign\n",
        "  1 = right sign\n",
        "  2 = left sign\n",
        "  \"\"\"\n",
        "  if 6 in imageClass:\n",
        "    sign = 1\n",
        "    boxArea = meanArea(imageClass,box,6)\n",
        "  elif 7 in imageClass:\n",
        "    sign = 2\n",
        "    boxArea = meanArea(imageClass,box,7)\n",
        "  elif 6 and 7 in imageClass:\n",
        "    print('AHHHHHHHHHHHHHHHH')\n",
        "  else:\n",
        "    sign = 0\n",
        "    boxArea = 0\n",
        "  return boxArea,sign\n"
      ],
      "execution_count": 290,
      "outputs": []
    },
    {
      "cell_type": "code",
      "metadata": {
        "id": "vhYmOMqnTbBZ"
      },
      "source": [
        "boxList = []\n",
        "signList = []\n",
        "for idx in range(len(classes)):\n",
        "  # boxes,classes = objectDetect(image)\n",
        "  boxArea, sign = assignSign(classes[idx],boxes[idx])\n",
        "  boxList.append(boxArea)\n",
        "  signList.append(sign)"
      ],
      "execution_count": 291,
      "outputs": []
    },
    {
      "cell_type": "markdown",
      "metadata": {
        "id": "mZFMAE90DQWD"
      },
      "source": [
        "# Prepare to input sign information\n",
        "### 6/8 = right_sign\n",
        "### 7/8 = left_sign"
      ]
    },
    {
      "cell_type": "markdown",
      "metadata": {
        "id": "DN4f-rGJML0l"
      },
      "source": [
        "Standard deviation of the angles"
      ]
    },
    {
      "cell_type": "code",
      "metadata": {
        "id": "AI1Gn6MeNBIe",
        "colab": {
          "base_uri": "https://localhost:8080/",
          "height": 281
        },
        "outputId": "0f71daeb-cfbb-4386-eaa0-0437c9563756"
      },
      "source": [
        "plt.hist(y_angle)\n",
        "statistics.stdev(y_angle)"
      ],
      "execution_count": 292,
      "outputs": [
        {
          "output_type": "execute_result",
          "data": {
            "text/plain": [
              "0.15555820377620497"
            ]
          },
          "metadata": {
            "tags": []
          },
          "execution_count": 292
        },
        {
          "output_type": "display_data",
          "data": {
            "image/png": "[encoded data removed]",
            "text/plain": [
              "<Figure size 432x288 with 1 Axes>"
            ]
          },
          "metadata": {
            "tags": [],
            "needs_background": "light"
          }
        }
      ]
    },
    {
      "cell_type": "code",
      "metadata": {
        "id": "WRL3lMMfbwZa"
      },
      "source": [
        "def pan(image):\n",
        "    # pan left / right / up / down about 10%\n",
        "    pan = img_aug.Affine(translate_percent= {\"x\" : (-0.1, 0.1), \"y\": (-0.1, 0.1)})\n",
        "    image = pan.augment_image(image)\n",
        "    return image\n",
        "    \n",
        "def zoom(image):\n",
        "    zoom = img_aug.Affine(scale=(1, 1.3))  # zoom from 100% (no zoom) to 130%\n",
        "    image = zoom.augment_image(image)\n",
        "    return image\n",
        "\n",
        "def adjust_brightness(image):\n",
        "    # increase or decrease brightness by 30%\n",
        "    brightness = img_aug.Multiply((0.7, 1.3))\n",
        "    image = brightness.augment_image(image)\n",
        "    return image\n",
        "\n",
        "def blur(image):\n",
        "    kernel_size = random.randint(1, 5)  # kernel larger than 5 would make the image way too blurry\n",
        "    image = cv2.blur(image,(kernel_size, kernel_size))\n",
        "   \n",
        "    return image\n",
        "\n",
        "\n",
        "def random_flip(image, steering_angle):\n",
        "    is_flip = random.randint(0, 1)\n",
        "    if is_flip == 1:\n",
        "        # randomly flip horizon\n",
        "        image = cv2.flip(image,1)\n",
        "        steering_angle = 180 - steering_angle\n",
        "   \n",
        "    return image, steering_angle"
      ],
      "execution_count": 293,
      "outputs": []
    },
    {
      "cell_type": "code",
      "metadata": {
        "id": "-k9m29RzXlVg"
      },
      "source": [
        "def random_augment(image, steering_angle):\n",
        "  \n",
        "    if np.random.rand() < 0.5:\n",
        "        image = pan(image)\n",
        "    if np.random.rand() < 0.5:\n",
        "        image = zoom(image)\n",
        "    if np.random.rand() < 0.5:\n",
        "        image = blur(image)\n",
        "    if np.random.rand() < 0.5:\n",
        "        image = adjust_brightness(image)\n",
        "    image, steering_angle = random_flip(image, steering_angle)\n",
        "    \n",
        "    return image, steering_angle\n",
        "# imageId = np.array(imageId)"
      ],
      "execution_count": 294,
      "outputs": []
    },
    {
      "cell_type": "code",
      "metadata": {
        "id": "g8NzgqqfXmdj"
      },
      "source": [
        "smallAngles=(np.where(np.array(y_angle)<0.5)[0])\n",
        "largeAngles=(np.where(np.array(y_angle)>=0.8)[0])\n",
        "tinyAngles=(np.where(np.array(y_angle)<0.3)[0])\n",
        "hugeAngles=(np.where(np.array(y_angle)>=0.9)[0])\n",
        "augmentedImages = []\n",
        "augmentedAngles = []\n",
        "augmentedID = []\n",
        "augmentedBoxes = []\n",
        "augmentedClasses = []\n",
        "for idx in smallAngles:\n",
        "  image, angle = random_augment(X[idx], y_angle[idx])\n",
        "  augmentedImages.append(image)\n",
        "  augmentedAngles.append(angle)\n",
        "  augmentedID.append(imageId[idx])\n",
        "  augmentedClasses.append(signList[idx])\n",
        "  augmentedBoxes.append(boxList[idx])"
      ],
      "execution_count": 295,
      "outputs": []
    },
    {
      "cell_type": "code",
      "metadata": {
        "id": "OAh4Qm3InEa6"
      },
      "source": [
        "for idx in hugeAngles:\n",
        "  for _ in range(4):\n",
        "    image, angle = random_augment(X[idx], y_angle[idx])\n",
        "    augmentedImages.append(image)\n",
        "    augmentedAngles.append(angle)\n",
        "    augmentedID.append(imageId[idx])\n",
        "    augmentedClasses.append(signList[idx])\n",
        "    augmentedBoxes.append(boxList[idx])"
      ],
      "execution_count": 296,
      "outputs": []
    },
    {
      "cell_type": "code",
      "metadata": {
        "id": "u_W1wyaojEjC"
      },
      "source": [
        "for idx in tinyAngles:\n",
        "  for _ in range(4):\n",
        "    image, angle = random_augment(X[idx], y_angle[idx])\n",
        "    augmentedImages.append(image)\n",
        "    augmentedAngles.append(angle)\n",
        "    augmentedID.append(imageId[idx])\n",
        "    augmentedClasses.append(signList[idx])\n",
        "    augmentedBoxes.append(boxList[idx])"
      ],
      "execution_count": 297,
      "outputs": []
    },
    {
      "cell_type": "code",
      "metadata": {
        "id": "mBTwL_FSc29o"
      },
      "source": [
        "for idx in largeAngles:\n",
        "  image, angle = random_augment(X[idx], y_angle[idx])\n",
        "  augmentedImages.append(image)\n",
        "  augmentedAngles.append(angle)\n",
        "  augmentedID.append(imageId[idx])\n",
        "  augmentedClasses.append(signList[idx])\n",
        "  augmentedBoxes.append(boxList[idx])"
      ],
      "execution_count": 298,
      "outputs": []
    },
    {
      "cell_type": "markdown",
      "metadata": {
        "id": "iNG3bBHRdwWd"
      },
      "source": [
        "Hist before augmentation"
      ]
    },
    {
      "cell_type": "code",
      "metadata": {
        "id": "_WIHzvBWdvIj",
        "colab": {
          "base_uri": "https://localhost:8080/",
          "height": 281
        },
        "outputId": "99c9b8a3-3ac2-4ac3-9dea-3bcf9757355a"
      },
      "source": [
        "plt.hist(y_angle)\n",
        "statistics.stdev(y_angle)"
      ],
      "execution_count": 299,
      "outputs": [
        {
          "output_type": "execute_result",
          "data": {
            "text/plain": [
              "0.15555820377620497"
            ]
          },
          "metadata": {
            "tags": []
          },
          "execution_count": 299
        },
        {
          "output_type": "display_data",
          "data": {
            "image/png": "[encoded data removed]",
            "text/plain": [
              "<Figure size 432x288 with 1 Axes>"
            ]
          },
          "metadata": {
            "tags": [],
            "needs_background": "light"
          }
        }
      ]
    },
    {
      "cell_type": "markdown",
      "metadata": {
        "id": "GhRi4RcWd18_"
      },
      "source": [
        "Hist after augmentation"
      ]
    },
    {
      "cell_type": "code",
      "metadata": {
        "id": "ZMUzEaSdd1SD"
      },
      "source": [
        "for idx in range(len(augmentedAngles)):\n",
        "  y_angle.append(augmentedAngles[idx])\n",
        "  X.append(augmentedImages[idx])\n",
        "  imageId.append(augmentedID[idx])\n",
        "  boxList.append(augmentedBoxes[idx])\n",
        "  signList.append(augmentedClasses[idx])"
      ],
      "execution_count": 300,
      "outputs": []
    },
    {
      "cell_type": "code",
      "metadata": {
        "id": "ofJ9GNwQfWUV",
        "colab": {
          "base_uri": "https://localhost:8080/",
          "height": 281
        },
        "outputId": "64c0266b-3ab9-432a-e617-76e6c47d1ee3"
      },
      "source": [
        "plt.hist(np.array(y_angle))\n",
        "statistics.stdev(y_angle)"
      ],
      "execution_count": 301,
      "outputs": [
        {
          "output_type": "execute_result",
          "data": {
            "text/plain": [
              "0.21729084349718852"
            ]
          },
          "metadata": {
            "tags": []
          },
          "execution_count": 301
        },
        {
          "output_type": "display_data",
          "data": {
            "image/png": "[encoded data removed]",
            "text/plain": [
              "<Figure size 432x288 with 1 Axes>"
            ]
          },
          "metadata": {
            "tags": [],
            "needs_background": "light"
          }
        }
      ]
    },
    {
      "cell_type": "code",
      "metadata": {
        "id": "UopdowkSSTNi"
      },
      "source": [
        "X_new = X\n",
        "y_angle_new = y_angle\n",
        "idImage = imageId\n",
        "del X\n",
        "del y_angle\n",
        "del imageId"
      ],
      "execution_count": 302,
      "outputs": []
    },
    {
      "cell_type": "code",
      "metadata": {
        "id": "11h4n49QZ8Aw"
      },
      "source": [
        "X_new = np.array(X_new)\n",
        "y_angle_new = np.array(y_angle_new)\n",
        "idImage = np.array(idImage)\n",
        "signArray = np.array(signList)\n",
        "boxArray = np.array(boxList)"
      ],
      "execution_count": 303,
      "outputs": []
    },
    {
      "cell_type": "markdown",
      "metadata": {
        "id": "zsr6OUWipy7l"
      },
      "source": [
        "Preprocces images to scale, normalize change RGB to YUV and add gaussian noise"
      ]
    },
    {
      "cell_type": "code",
      "metadata": {
        "id": "e-Fy5sMpE01m"
      },
      "source": [
        "def img_preprocess(image):\n",
        "    height, _, _ = image.shape\n",
        "    image = cv2.cvtColor(image, cv2.COLOR_BGR2YUV)  # Nvidia model said it is best to use YUV color space\n",
        "    image = cv2.GaussianBlur(image, (3,3), 0) # Gaussian Noise / filtering\n",
        "    image = image / 255 # normalizing\n",
        "    # Round everything into the image to 1 decimal place\n",
        "    image = np.around(image ,2)\n",
        "    return image"
      ],
      "execution_count": 304,
      "outputs": []
    },
    {
      "cell_type": "code",
      "metadata": {
        "id": "II_uY56MpqJK"
      },
      "source": [
        "X_final = []\n",
        "for img_index in range(X_new.shape[0] ):\n",
        "  X_f = img_preprocess(X_new[img_index,:,:,:])\n",
        "  X_final.append(X_f)"
      ],
      "execution_count": 305,
      "outputs": []
    },
    {
      "cell_type": "code",
      "metadata": {
        "id": "CB1BaRBjrUPn"
      },
      "source": [
        "X_final = np.array(X_final)\n",
        "X_box_inputs = (np.vstack([signArray,boxArray])).T"
      ],
      "execution_count": 306,
      "outputs": []
    },
    {
      "cell_type": "code",
      "metadata": {
        "id": "uIZ7iWssLznq"
      },
      "source": [
        ""
      ],
      "execution_count": 306,
      "outputs": []
    },
    {
      "cell_type": "markdown",
      "metadata": {
        "id": "AngAeTNDHAzJ"
      },
      "source": [
        "Create a test dataset to ensure that we do not overfit"
      ]
    },
    {
      "cell_type": "code",
      "metadata": {
        "id": "6tCXVgZHGrMU"
      },
      "source": [
        "from keras.layers import *\n",
        "# X_train_image, X_test_image, X_train_box, X_test_box, y_train, y_test = train_test_split(X_final, X_box_inputs, y_angle_new, test_size=0.1, random_state=42)"
      ],
      "execution_count": 307,
      "outputs": []
    },
    {
      "cell_type": "code",
      "metadata": {
        "id": "EfdXN-AD5j1V"
      },
      "source": [
        "#shuffle x and y together\n",
        "perms = np.random.permutation(len(X_final))\n",
        "X_train_image = X_final[perms]\n",
        "y_train = y_angle_new[perms]\n",
        "idImage = idImage[perms]\n",
        "X_train_box = X_box_inputs[perms]\n",
        "\n"
      ],
      "execution_count": 308,
      "outputs": []
    },
    {
      "cell_type": "code",
      "metadata": {
        "id": "lQSArvBRVDG3"
      },
      "source": [
        "del y_angle_new\n",
        "del X_final"
      ],
      "execution_count": 309,
      "outputs": []
    },
    {
      "cell_type": "code",
      "metadata": {
        "id": "T3QsocHmqtdI"
      },
      "source": [
        "# print(X_train.shape)\n",
        "tf_y_train = tf.reshape(y_train,[ y_train.shape[0] ,1 ]).numpy()"
      ],
      "execution_count": 310,
      "outputs": []
    },
    {
      "cell_type": "code",
      "metadata": {
        "id": "61SLT46a73_o"
      },
      "source": [
        "from keras.models import *\n",
        "def scalar_model():\n",
        "\n",
        "  input = Input(shape=(X_train_box.shape[1]))\n",
        "  x = BatchNormalization()(input)\n",
        "  x = Dense(100,activation ='relu')(x)\n",
        "  # x = Dense(200,activation ='relu')(x)\n",
        "\n",
        "\n",
        "  output = x\n",
        "  model = Model(inputs=input,outputs=output)\n",
        "  return model\n",
        "\n",
        "scalar_model = scalar_model()"
      ],
      "execution_count": 311,
      "outputs": []
    },
    {
      "cell_type": "code",
      "metadata": {
        "colab": {
          "base_uri": "https://localhost:8080/"
        },
        "id": "jhWfoOWXSkkb",
        "outputId": "262b87ad-ea8d-4967-f59f-a5ef8a27b613"
      },
      "source": [
        "type(X_train_box)"
      ],
      "execution_count": 312,
      "outputs": [
        {
          "output_type": "execute_result",
          "data": {
            "text/plain": [
              "numpy.ndarray"
            ]
          },
          "metadata": {
            "tags": []
          },
          "execution_count": 312
        }
      ]
    },
    {
      "cell_type": "code",
      "metadata": {
        "colab": {
          "base_uri": "https://localhost:8080/"
        },
        "id": "ULN6hFE3yBwE",
        "outputId": "6e09fde0-4d7a-4983-eb34-db77099cb147"
      },
      "source": [
        "X_train_image.shape"
      ],
      "execution_count": 313,
      "outputs": [
        {
          "output_type": "execute_result",
          "data": {
            "text/plain": [
              "(19794, 66, 200, 3)"
            ]
          },
          "metadata": {
            "tags": []
          },
          "execution_count": 313
        }
      ]
    },
    {
      "cell_type": "code",
      "metadata": {
        "id": "et50JTQFyckP"
      },
      "source": [
        "if len(X_train_image.shape) == 3:\n",
        "  #X_train = tf.reshape(X_train,[ X_train.shape[0],X_train.shape[1],X_train.shape[2] ,1 ]).numpy()\n",
        "  X_train_image = np.reshape(X_train_image, (X_train_image.shape[0],X_train_image.shape[1],X_train_image.shape[2] ,1 ) )\n",
        "  #X_train = np.repeat(X_train[..., np.newaxis], 3, -1)"
      ],
      "execution_count": 314,
      "outputs": []
    },
    {
      "cell_type": "code",
      "metadata": {
        "id": "zTCGDtJKFV3N",
        "colab": {
          "base_uri": "https://localhost:8080/"
        },
        "outputId": "2e1db0b3-a32c-493b-d37a-b8a95caaad3e"
      },
      "source": [
        "def nvidia_top_model():\n",
        "\n",
        "    # Convolution Layers\n",
        "    inputs = Input(shape=(X_train_image.shape[1], X_train_image.shape[2], X_train_image.shape[3]))\n",
        "    x = BatchNormalization()(inputs)\n",
        "    x = (Conv2D(24, (5, 5), strides=(2, 2), activation='elu',))(x)\n",
        "    x = (Conv2D(36, (5, 5), strides=(2, 2), activation='elu'))(x)\n",
        "    x = MaxPooling2D(padding='same')(x)\n",
        "    x = (Conv2D(48, (5, 5), strides=(2, 2), activation='elu'))(x)\n",
        "    # x = MaxPooling2D(padding='same')(x)\n",
        "    x = (Conv2D(64, (2,2), activation='elu'))(x) \n",
        "    x = (Conv2D(64, (1, 1), activation='elu'))(x)  \n",
        "    \n",
        "    # Fully Connected Layers\n",
        "    x = (Flatten())(x)\n",
        "    x = (Dense(200, activation='elu'))(x)\n",
        "    \n",
        "    x = (Dropout(0.1))(x) \n",
        "    x = (Dense(100, activation='elu'))(x)\n",
        "    # x = (Dense(100, activation='elu'))(x)\n",
        "      \n",
        "    outputs = x\n",
        "    \n",
        "    \n",
        "    model = Model(inputs=inputs, outputs=outputs )\n",
        "    return model\n",
        "\n",
        "nvidia_top_model = nvidia_top_model()\n",
        "print(nvidia_top_model.summary())"
      ],
      "execution_count": 315,
      "outputs": [
        {
          "output_type": "stream",
          "text": [
            "Model: \"model_45\"\n",
            "_________________________________________________________________\n",
            "Layer (type)                 Output Shape              Param #   \n",
            "=================================================================\n",
            "input_30 (InputLayer)        [(None, 66, 200, 3)]      0         \n",
            "_________________________________________________________________\n",
            "batch_normalization_29 (Batc (None, 66, 200, 3)        12        \n",
            "_________________________________________________________________\n",
            "conv2d_70 (Conv2D)           (None, 31, 98, 24)        1824      \n",
            "_________________________________________________________________\n",
            "conv2d_71 (Conv2D)           (None, 14, 47, 36)        21636     \n",
            "_________________________________________________________________\n",
            "max_pooling2d_14 (MaxPooling (None, 7, 24, 36)         0         \n",
            "_________________________________________________________________\n",
            "conv2d_72 (Conv2D)           (None, 2, 10, 48)         43248     \n",
            "_________________________________________________________________\n",
            "conv2d_73 (Conv2D)           (None, 1, 9, 64)          12352     \n",
            "_________________________________________________________________\n",
            "conv2d_74 (Conv2D)           (None, 1, 9, 64)          4160      \n",
            "_________________________________________________________________\n",
            "flatten_31 (Flatten)         (None, 576)               0         \n",
            "_________________________________________________________________\n",
            "dense_128 (Dense)            (None, 200)               115400    \n",
            "_________________________________________________________________\n",
            "dropout_13 (Dropout)         (None, 200)               0         \n",
            "_________________________________________________________________\n",
            "dense_129 (Dense)            (None, 100)               20100     \n",
            "=================================================================\n",
            "Total params: 218,732\n",
            "Trainable params: 218,726\n",
            "Non-trainable params: 6\n",
            "_________________________________________________________________\n",
            "None\n"
          ],
          "name": "stdout"
        }
      ]
    },
    {
      "cell_type": "code",
      "metadata": {
        "id": "gz62uNcFLDtr"
      },
      "source": [
        "mergedOut = Add()([nvidia_top_model.output,scalar_model.output])\n",
        "mergedOut = Flatten()(mergedOut)    \n",
        "mergedOut = Dense(100, activation='elu')(mergedOut)\n",
        "mergedOut = Dense(50, activation='elu')(mergedOut)\n",
        "# mergedOut = Dropout(.1)(mergedOut)\n",
        "mergedOut = Dense(10, activation='elu')(mergedOut)\n",
        "\n",
        "# output layer\n",
        "mergedOut = Dense(1)(mergedOut)"
      ],
      "execution_count": 316,
      "outputs": []
    },
    {
      "cell_type": "code",
      "metadata": {
        "id": "JbrqmqJU8Kog",
        "colab": {
          "base_uri": "https://localhost:8080/"
        },
        "outputId": "dab8d2bf-e879-4161-b1ef-be7fa6f739c7"
      },
      "source": [
        "from keras.models import Model\n",
        "\n",
        "mergeModel = Model([nvidia_top_model.input, scalar_model.input], mergedOut)\n",
        "optimizer = Adam(lr=1e-3)\n",
        "mergeModel.compile(loss='mse',\n",
        "                  optimizer=optimizer               \n",
        "                  )\n",
        "mergeModel.summary()"
      ],
      "execution_count": 317,
      "outputs": [
        {
          "output_type": "stream",
          "text": [
            "Model: \"model_46\"\n",
            "__________________________________________________________________________________________________\n",
            "Layer (type)                    Output Shape         Param #     Connected to                     \n",
            "==================================================================================================\n",
            "input_30 (InputLayer)           [(None, 66, 200, 3)] 0                                            \n",
            "__________________________________________________________________________________________________\n",
            "batch_normalization_29 (BatchNo (None, 66, 200, 3)   12          input_30[0][0]                   \n",
            "__________________________________________________________________________________________________\n",
            "conv2d_70 (Conv2D)              (None, 31, 98, 24)   1824        batch_normalization_29[0][0]     \n",
            "__________________________________________________________________________________________________\n",
            "conv2d_71 (Conv2D)              (None, 14, 47, 36)   21636       conv2d_70[0][0]                  \n",
            "__________________________________________________________________________________________________\n",
            "max_pooling2d_14 (MaxPooling2D) (None, 7, 24, 36)    0           conv2d_71[0][0]                  \n",
            "__________________________________________________________________________________________________\n",
            "conv2d_72 (Conv2D)              (None, 2, 10, 48)    43248       max_pooling2d_14[0][0]           \n",
            "__________________________________________________________________________________________________\n",
            "conv2d_73 (Conv2D)              (None, 1, 9, 64)     12352       conv2d_72[0][0]                  \n",
            "__________________________________________________________________________________________________\n",
            "conv2d_74 (Conv2D)              (None, 1, 9, 64)     4160        conv2d_73[0][0]                  \n",
            "__________________________________________________________________________________________________\n",
            "flatten_31 (Flatten)            (None, 576)          0           conv2d_74[0][0]                  \n",
            "__________________________________________________________________________________________________\n",
            "dense_128 (Dense)               (None, 200)          115400      flatten_31[0][0]                 \n",
            "__________________________________________________________________________________________________\n",
            "input_29 (InputLayer)           [(None, 2)]          0                                            \n",
            "__________________________________________________________________________________________________\n",
            "dropout_13 (Dropout)            (None, 200)          0           dense_128[0][0]                  \n",
            "__________________________________________________________________________________________________\n",
            "batch_normalization_28 (BatchNo (None, 2)            8           input_29[0][0]                   \n",
            "__________________________________________________________________________________________________\n",
            "dense_129 (Dense)               (None, 100)          20100       dropout_13[0][0]                 \n",
            "__________________________________________________________________________________________________\n",
            "dense_127 (Dense)               (None, 100)          300         batch_normalization_28[0][0]     \n",
            "__________________________________________________________________________________________________\n",
            "add_8 (Add)                     (None, 100)          0           dense_129[0][0]                  \n",
            "                                                                 dense_127[0][0]                  \n",
            "__________________________________________________________________________________________________\n",
            "flatten_32 (Flatten)            (None, 100)          0           add_8[0][0]                      \n",
            "__________________________________________________________________________________________________\n",
            "dense_130 (Dense)               (None, 100)          10100       flatten_32[0][0]                 \n",
            "__________________________________________________________________________________________________\n",
            "dense_131 (Dense)               (None, 50)           5050        dense_130[0][0]                  \n",
            "__________________________________________________________________________________________________\n",
            "dense_132 (Dense)               (None, 10)           510         dense_131[0][0]                  \n",
            "__________________________________________________________________________________________________\n",
            "dense_133 (Dense)               (None, 1)            11          dense_132[0][0]                  \n",
            "==================================================================================================\n",
            "Total params: 234,711\n",
            "Trainable params: 234,701\n",
            "Non-trainable params: 10\n",
            "__________________________________________________________________________________________________\n"
          ],
          "name": "stdout"
        }
      ]
    },
    {
      "cell_type": "code",
      "metadata": {
        "id": "TDJb-B6M8KzA",
        "colab": {
          "base_uri": "https://localhost:8080/"
        },
        "outputId": "f6eb5ee7-47f3-4ba9-d4d1-c3489732aef3"
      },
      "source": [
        "monitor = EarlyStopping(monitor='val_loss', min_delta=1e-3, \n",
        "        patience=7, verbose=1, mode='auto',\n",
        "        restore_best_weights=True)\n",
        "mergeModel.fit([X_train_image,X_train_box], tf_y_train, batch_size=128, epochs=100, validation_split=0.2,callbacks=[monitor])  "
      ],
      "execution_count": 318,
      "outputs": [
        {
          "output_type": "stream",
          "text": [
            "Epoch 1/100\n",
            "124/124 [==============================] - 4s 25ms/step - loss: 0.1272 - val_loss: 0.0452\n",
            "Epoch 2/100\n",
            "124/124 [==============================] - 3s 20ms/step - loss: 0.0165 - val_loss: 0.0246\n",
            "Epoch 3/100\n",
            "124/124 [==============================] - 2s 20ms/step - loss: 0.0141 - val_loss: 0.0157\n",
            "Epoch 4/100\n",
            "124/124 [==============================] - 3s 20ms/step - loss: 0.0122 - val_loss: 0.0124\n",
            "Epoch 5/100\n",
            "124/124 [==============================] - 3s 20ms/step - loss: 0.0107 - val_loss: 0.0111\n",
            "Epoch 6/100\n",
            "124/124 [==============================] - 2s 20ms/step - loss: 0.0098 - val_loss: 0.0100\n",
            "Epoch 7/100\n",
            "124/124 [==============================] - 2s 20ms/step - loss: 0.0087 - val_loss: 0.0098\n",
            "Epoch 8/100\n",
            "124/124 [==============================] - 2s 20ms/step - loss: 0.0082 - val_loss: 0.0095\n",
            "Epoch 9/100\n",
            "124/124 [==============================] - 2s 20ms/step - loss: 0.0074 - val_loss: 0.0091\n",
            "Epoch 10/100\n",
            "124/124 [==============================] - 2s 20ms/step - loss: 0.0069 - val_loss: 0.0091\n",
            "Epoch 11/100\n",
            "124/124 [==============================] - 2s 20ms/step - loss: 0.0071 - val_loss: 0.0091\n",
            "Epoch 12/100\n",
            "124/124 [==============================] - 2s 20ms/step - loss: 0.0065 - val_loss: 0.0089\n",
            "Epoch 13/100\n",
            "124/124 [==============================] - 2s 20ms/step - loss: 0.0062 - val_loss: 0.0086\n",
            "Epoch 14/100\n",
            "124/124 [==============================] - 2s 20ms/step - loss: 0.0059 - val_loss: 0.0085\n",
            "Epoch 15/100\n",
            "124/124 [==============================] - 2s 20ms/step - loss: 0.0053 - val_loss: 0.0080\n",
            "Epoch 16/100\n",
            "124/124 [==============================] - 3s 20ms/step - loss: 0.0050 - val_loss: 0.0082\n",
            "Epoch 17/100\n",
            "124/124 [==============================] - 2s 20ms/step - loss: 0.0050 - val_loss: 0.0084\n",
            "Epoch 18/100\n",
            "124/124 [==============================] - 2s 20ms/step - loss: 0.0049 - val_loss: 0.0089\n",
            "Epoch 19/100\n",
            "124/124 [==============================] - 2s 20ms/step - loss: 0.0047 - val_loss: 0.0088\n",
            "Restoring model weights from the end of the best epoch.\n",
            "Epoch 00019: early stopping\n"
          ],
          "name": "stdout"
        },
        {
          "output_type": "execute_result",
          "data": {
            "text/plain": [
              "<tensorflow.python.keras.callbacks.History at 0x7fecbfaf17d0>"
            ]
          },
          "metadata": {
            "tags": []
          },
          "execution_count": 318
        }
      ]
    },
    {
      "cell_type": "code",
      "metadata": {
        "id": "PRPJYPVA8YpF"
      },
      "source": [
        "# mergeModel.evaluate(x=[X_test_image,X_test_box],y=y_test)"
      ],
      "execution_count": 319,
      "outputs": []
    },
    {
      "cell_type": "code",
      "metadata": {
        "colab": {
          "base_uri": "https://localhost:8080/",
          "height": 178
        },
        "id": "fnCIBJ8Z0SNY",
        "outputId": "3ef42e94-4c15-482f-fd1a-8da5a1a4da1c"
      },
      "source": [
        "plt.imshow(X_train_image[0][:,:,0])"
      ],
      "execution_count": 320,
      "outputs": [
        {
          "output_type": "execute_result",
          "data": {
            "text/plain": [
              "<matplotlib.image.AxesImage at 0x7fec2c3f0190>"
            ]
          },
          "metadata": {
            "tags": []
          },
          "execution_count": 320
        },
        {
          "output_type": "display_data",
          "data": {
            "image/png": "[encoded data removed]",
            "text/plain": [
              "<Figure size 432x288 with 1 Axes>"
            ]
          },
          "metadata": {
            "tags": [],
            "needs_background": "light"
          }
        }
      ]
    },
    {
      "cell_type": "code",
      "metadata": {
        "id": "U7mfrHwK589j"
      },
      "source": [
        "mergeModel.save(os.path.join(path,'Angle_prediction_model.h5'))"
      ],
      "execution_count": 321,
      "outputs": []
    },
    {
      "cell_type": "code",
      "metadata": {
        "id": "IFugzsUCWD6x"
      },
      "source": [
        "steering_angle = model.predict(X_test)"
      ],
      "execution_count": null,
      "outputs": []
    },
    {
      "cell_type": "code",
      "metadata": {
        "id": "MKF5Qh9fnhuQ",
        "colab": {
          "base_uri": "https://localhost:8080/"
        },
        "outputId": "e4887c6c-b214-4071-9ee6-c70b43af784b"
      },
      "source": [
        "gc.collect()"
      ],
      "execution_count": null,
      "outputs": [
        {
          "output_type": "execute_result",
          "data": {
            "text/plain": [
              "13819"
            ]
          },
          "metadata": {
            "tags": []
          },
          "execution_count": 128
        }
      ]
    },
    {
      "cell_type": "code",
      "metadata": {
        "id": "3MzJRyCqzBvW"
      },
      "source": [
        "steering_angle = np.around(steering_angle,4)"
      ],
      "execution_count": null,
      "outputs": []
    },
    {
      "cell_type": "code",
      "metadata": {
        "id": "tROShvSvzIPL"
      },
      "source": [
        "errors = []\n",
        "indexes=[]\n",
        "for _ in range(len(y_test)):\n",
        "  errors.append(y_test[_]-steering_angle[_])\n",
        "  indexes.append(_)"
      ],
      "execution_count": null,
      "outputs": []
    },
    {
      "cell_type": "code",
      "metadata": {
        "id": "VSGH2RkV0F56"
      },
      "source": [
        "frame = pd.DataFrame([errors,indexes,y_test,steering_angle]).T"
      ],
      "execution_count": null,
      "outputs": []
    },
    {
      "cell_type": "code",
      "metadata": {
        "colab": {
          "base_uri": "https://localhost:8080/"
        },
        "id": "2I09pbqc1XjE",
        "outputId": "235d2945-9f98-4bc2-b2d7-91e04671f786"
      },
      "source": [
        "y_test"
      ],
      "execution_count": null,
      "outputs": [
        {
          "output_type": "execute_result",
          "data": {
            "text/plain": [
              "array([0.1875, 0.125 , 0.5625, ..., 0.625 , 0.    , 0.8125])"
            ]
          },
          "metadata": {
            "tags": []
          },
          "execution_count": 66
        }
      ]
    },
    {
      "cell_type": "code",
      "metadata": {
        "id": "i4Quczh60SJ2"
      },
      "source": [
        "frame.columns=['errors','indexes','y_test','y_pred']\n",
        "frame.sort_values(\"errors\",inplace=True)\n",
        "frame.set_index(\"indexes\",inplace=True)\n",
        "frame.head(40)"
      ],
      "execution_count": null,
      "outputs": []
    },
    {
      "cell_type": "code",
      "metadata": {
        "colab": {
          "base_uri": "https://localhost:8080/",
          "height": 178
        },
        "id": "Y0dWesBk1rKI",
        "outputId": "e620bbbb-dbad-43e7-fba2-659070d0b115"
      },
      "source": [
        "plt.imshow(X_test[1326])"
      ],
      "execution_count": null,
      "outputs": [
        {
          "output_type": "execute_result",
          "data": {
            "text/plain": [
              "<matplotlib.image.AxesImage at 0x7f7957d54150>"
            ]
          },
          "metadata": {
            "tags": []
          },
          "execution_count": 80
        },
        {
          "output_type": "display_data",
          "data": {
            "image/png": "[encoded data removed]",
            "text/plain": [
              "<Figure size 432x288 with 1 Axes>"
            ]
          },
          "metadata": {
            "tags": [],
            "needs_background": "light"
          }
        }
      ]
    },
    {
      "cell_type": "code",
      "metadata": {
        "id": "u6iHnE1yXBh8"
      },
      "source": [
        "for i in range(y_test.shape[0]):  \n",
        "  #print([steering_angle[i][0], tf_y_angle[i][0]])\n",
        "  print([steering_angle[i][0], y_test[i] ])"
      ],
      "execution_count": null,
      "outputs": []
    },
    {
      "cell_type": "code",
      "metadata": {
        "colab": {
          "base_uri": "https://localhost:8080/",
          "height": 335
        },
        "id": "u8DWQcuLXWZa",
        "outputId": "f3ada706-d533-46bb-908c-706717eef45b"
      },
      "source": [
        "plt.hist(y_angle_new)"
      ],
      "execution_count": null,
      "outputs": [
        {
          "output_type": "execute_result",
          "data": {
            "text/plain": [
              "(array([ 528., 1182.,  624., 1282., 2934., 3655., 3970., 2123., 2896.,\n",
              "         200.]),\n",
              " array([0. , 0.1, 0.2, 0.3, 0.4, 0.5, 0.6, 0.7, 0.8, 0.9, 1. ]),\n",
              " <a list of 10 Patch objects>)"
            ]
          },
          "metadata": {
            "tags": []
          },
          "execution_count": 43
        },
        {
          "output_type": "display_data",
          "data": {
            "image/png": "[encoded data removed]",
            "text/plain": [
              "<Figure size 432x288 with 1 Axes>"
            ]
          },
          "metadata": {
            "tags": [],
            "needs_background": "light"
          }
        }
      ]
    },
    {
      "cell_type": "markdown",
      "metadata": {
        "id": "JM8rZ_tsVErl"
      },
      "source": [
        "Calculate the Mean squared error"
      ]
    },
    {
      "cell_type": "code",
      "metadata": {
        "colab": {
          "base_uri": "https://localhost:8080/"
        },
        "id": "NuMrW57kVDtt",
        "outputId": "1bf87e50-bc71-4e24-e89a-c3da9962bae3"
      },
      "source": [
        "mseSum = 0\n",
        "print(y_test.shape[0])\n",
        "for i in range(y_test.shape[0]):\n",
        "  mseSum += (1/y_test.shape[0] ) *  (steering_angle[i][0] - y_test[i])**2\n",
        "print(mseSum)"
      ],
      "execution_count": null,
      "outputs": [
        {
          "output_type": "stream",
          "text": [
            "1980\n",
            "0.012001457926274885\n"
          ],
          "name": "stdout"
        }
      ]
    },
    {
      "cell_type": "code",
      "metadata": {
        "id": "prH-bsTHprU2"
      },
      "source": [
        "model.save(os.path.join(path,'Angle_prediction_model.h5'))"
      ],
      "execution_count": null,
      "outputs": []
    },
    {
      "cell_type": "code",
      "metadata": {
        "id": "idYlPkdaSN24"
      },
      "source": [
        "del model"
      ],
      "execution_count": null,
      "outputs": []
    },
    {
      "cell_type": "code",
      "metadata": {
        "id": "6prK2hyYsXJC"
      },
      "source": [
        "model = load_model(path+'/Angle_prediction_model.h5')"
      ],
      "execution_count": null,
      "outputs": []
    },
    {
      "cell_type": "markdown",
      "metadata": {
        "id": "sz68hBEbwaSs"
      },
      "source": [
        "Now save the model output"
      ]
    },
    {
      "cell_type": "code",
      "metadata": {
        "id": "FhLfjNZawcqG"
      },
      "source": [
        "#import os\n",
        "# always save model output as soon as model finishes training\n",
        "#model.save(os.path.join(path,'angle_prediction.h5'))"
      ],
      "execution_count": null,
      "outputs": []
    },
    {
      "cell_type": "code",
      "metadata": {
        "id": "98lT73S6l6FH"
      },
      "source": [
        "# model = Sequential()\n",
        "\n",
        "# model.add(Conv2D(32, (3, 3), input_shape=X.shape[1:]))\n",
        "# model.add(Activation('relu'))\n",
        "# model.add(MaxPooling2D(pool_size=(2, 2)))\n",
        "\n",
        "# model.add(Conv2D(32, (3, 3)))\n",
        "# model.add(Activation('relu'))\n",
        "# model.add(MaxPooling2D(pool_size=(2, 2)))\n",
        "\n",
        "# model.add(Flatten())  # this converts our 3D feature maps to 1D feature vectors\n",
        "\n",
        "# model.add(Dense(32))\n",
        "\n",
        "# model.add(Dense(1))\n",
        "# model.add(Activation('sigmoid'))\n",
        "\n",
        "# model.compile(loss='binary_crossentropy',\n",
        "#               optimizer='adam',\n",
        "#               metrics=['accuracy'])\n",
        "\n",
        "# model.fit(X, y_speed, batch_size=32, epochs=2, validation_split=0.8)"
      ],
      "execution_count": null,
      "outputs": []
    },
    {
      "cell_type": "markdown",
      "metadata": {
        "id": "ce6_nPCcS_Qm"
      },
      "source": [
        "Run the same model as above for angle prediction but change the loss function since we do not have classification. ALso accuracy is not a term to measure."
      ]
    },
    {
      "cell_type": "code",
      "metadata": {
        "id": "zCeEN-rkkr-Y"
      },
      "source": [
        "#y_angle"
      ],
      "execution_count": null,
      "outputs": []
    },
    {
      "cell_type": "code",
      "metadata": {
        "id": "fpfoFSn5Td66"
      },
      "source": [
        "# model = Sequential()\n",
        "\n",
        "# model.add(Conv2D(32, (3, 3), input_shape=X.shape[1:]))\n",
        "# model.add(Activation('relu'))\n",
        "# model.add(MaxPooling2D(pool_size=(2, 2)))\n",
        "\n",
        "# model.add(Conv2D(32, (3, 3)))\n",
        "# model.add(Activation('relu'))\n",
        "# model.add(MaxPooling2D(pool_size=(2, 2)))\n",
        "\n",
        "# model.add(Flatten())  # this converts our 3D feature maps to 1D feature vectors\n",
        "\n",
        "# model.add(Dense(64))\n",
        "\n",
        "# model.add(Dense(1))\n",
        "# model.add(Activation('sigmoid'))\n",
        "\n",
        "# model.compile(loss='mean_squared_error',\n",
        "#               optimizer='adam')\n",
        "\n",
        "# model.fit(X, y_angle, batch_size=32, epochs=2, validation_split=0.95)"
      ],
      "execution_count": null,
      "outputs": []
    }
  ]
}
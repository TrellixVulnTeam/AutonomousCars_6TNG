{
  "nbformat": 4,
  "nbformat_minor": 0,
  "metadata": {
    "colab": {
      "name": "Siemese Angle Network.ipynb",
      "provenance": [],
      "collapsed_sections": [],
      "machine_shape": "hm"
    },
    "kernelspec": {
      "name": "python3",
      "display_name": "Python 3"
    },
    "language_info": {
      "name": "python"
    },
    "accelerator": "TPU"
  },
  "cells": [
    {
      "cell_type": "markdown",
      "metadata": {
        "id": "E4oP1z9rThbl"
      },
      "source": [
        "Source to following code: https://pythonprogramming.net/convolutional-neural-network-deep-learning-python-tensorflow-keras/\n",
        "<br>\n",
        "Second source is: https://towardsdatascience.com/deeppicar-part-5-lane-following-via-deep-learning-d93acdce6110"
      ]
    },
    {
      "cell_type": "code",
      "metadata": {
        "colab": {
          "base_uri": "https://localhost:8080/"
        },
        "id": "WqbtLkl9aV7l",
        "outputId": "98453321-d550-47f9-ad03-30e0de27d5b3"
      },
      "source": [
        "# mount google drive\n",
        "from google.colab import drive\n",
        "drive.mount('/content/drive')"
      ],
      "execution_count": 1,
      "outputs": [
        {
          "output_type": "stream",
          "text": [
            "Mounted at /content/drive\n"
          ],
          "name": "stdout"
        }
      ]
    },
    {
      "cell_type": "code",
      "metadata": {
        "id": "Bq_BmJuDAXGc"
      },
      "source": [
        "# %cd \"/content/drive/My Drive/AutonomousDriving/Github/AutonomousCars/data/training_data\""
      ],
      "execution_count": 2,
      "outputs": []
    },
    {
      "cell_type": "code",
      "metadata": {
        "id": "KQL2HHfUaoTa"
      },
      "source": [
        "try:\n",
        "  # %tensorflow_version only exists in Colab.\n",
        "  %tensorflow_version 2.x\n",
        "except Exception:\n",
        "  pass"
      ],
      "execution_count": 3,
      "outputs": []
    },
    {
      "cell_type": "code",
      "metadata": {
        "id": "mbONPD1gaqeB"
      },
      "source": [
        "import tensorflow as tf\n",
        "from tensorflow.keras.preprocessing.image import ImageDataGenerator\n",
        "from tensorflow.keras.models import Sequential\n",
        "from tensorflow.keras.layers import Dense, Dropout, Activation, Flatten\n",
        "from tensorflow.keras.layers import Conv2D, MaxPooling2D\n",
        "from tensorflow.keras.callbacks import EarlyStopping\n",
        "from tensorflow.keras.models import load_model\n",
        "\n",
        "from keras.optimizers import Adam\n",
        "\n",
        "import matplotlib.pyplot as plt\n",
        "%matplotlib inline\n",
        "import numpy as np\n",
        "import pandas as pd\n",
        "\n",
        "from sklearn.model_selection import train_test_split \n",
        "from sklearn.utils import shuffle\n",
        "\n",
        "import statistics\n",
        "import gc # Helps to clear up some ram\n",
        "\n",
        "import cv2\n",
        "from numpy import random\n",
        "from imgaug import augmenters as img_aug\n",
        "\n",
        "import math\n",
        "import os"
      ],
      "execution_count": 4,
      "outputs": []
    },
    {
      "cell_type": "code",
      "metadata": {
        "id": "Qa9Be4Gza57a"
      },
      "source": [
        "tf.random.set_seed(1)"
      ],
      "execution_count": 5,
      "outputs": []
    },
    {
      "cell_type": "code",
      "metadata": {
        "id": "b8CXsMZ8bLhy"
      },
      "source": [
        "import pickle\n",
        "\n",
        "path = \"/content/drive/My Drive/AutonomousDriving\"\n",
        "pickle_in = open(path+\"/trainColour.pickle\",\"rb\")\n",
        "# Remove binary version\n",
        "trainImagesAndLabels = pickle.load(pickle_in)\n",
        "\n",
        "imageId = []\n",
        "bigImage = []\n",
        "y_angle = []\n",
        "y_speed = []\n",
        "for id,image,lbl_angle,lbl_speed in trainImagesAndLabels:\n",
        "  #checking = image\n",
        "  if np.count_nonzero(pd.isnull(image)): \n",
        "    print(\"NA: This image was not read well so we will skip for now\")\n",
        "  else:\n",
        "    imageId.append(id)\n",
        "    bigImage.append(image)\n",
        "    y_angle.append(lbl_angle)\n",
        "    y_speed.append(lbl_speed)"
      ],
      "execution_count": 7,
      "outputs": []
    },
    {
      "cell_type": "code",
      "metadata": {
        "id": "kTzpLjSIrrfr"
      },
      "source": [
        "import pickle\n",
        "\n",
        "path = \"/content/drive/My Drive/AutonomousDriving\"\n",
        "pickle_in = open(path+\"/boxTrainNumeric.pickle\",\"rb\")\n",
        "# Remove binary version\n",
        "trainImagesAndLabels = pickle.load(pickle_in)\n",
        "\n",
        "imageIdTest = []\n",
        "boxes = []\n",
        "classes = []\n",
        "for id,appendage in trainImagesAndLabels:\n",
        "    imageIdTest.append(id)\n",
        "    boxes.append(appendage[0])\n",
        "    classes.append(appendage[1])"
      ],
      "execution_count": 8,
      "outputs": []
    },
    {
      "cell_type": "code",
      "metadata": {
        "colab": {
          "base_uri": "https://localhost:8080/",
          "height": 52
        },
        "id": "fYcjwrL0vejG",
        "outputId": "f2338b98-4e98-4ce0-915c-e8ae1945233f"
      },
      "source": [
        "\"\"\"\n",
        "{1: {'id': 1, 'name': 'person'},\n",
        " 2: {'id': 2, 'name': 'box'},\n",
        " 3: {'id': 3, 'name': 'green_traffic_light'},\n",
        " 4: {'id': 4, 'name': 'red_traffic_light'},\n",
        " 5: {'id': 5, 'name': 'tree'},\n",
        " 6: {'id': 6, 'name': 'right_sign'},\n",
        " 7: {'id': 7, 'name': 'left_sign'},\n",
        " 8: {'id': 8, 'name': 'red_traffiic_light'}}\n",
        "\"\"\""
      ],
      "execution_count": 9,
      "outputs": [
        {
          "output_type": "execute_result",
          "data": {
            "application/vnd.google.colaboratory.intrinsic+json": {
              "type": "string"
            },
            "text/plain": [
              "\"\\n{1: {'id': 1, 'name': 'person'},\\n 2: {'id': 2, 'name': 'box'},\\n 3: {'id': 3, 'name': 'green_traffic_light'},\\n 4: {'id': 4, 'name': 'red_traffic_light'},\\n 5: {'id': 5, 'name': 'tree'},\\n 6: {'id': 6, 'name': 'right_sign'},\\n 7: {'id': 7, 'name': 'left_sign'},\\n 8: {'id': 8, 'name': 'red_traffiic_light'}}\\n\""
            ]
          },
          "metadata": {
            "tags": []
          },
          "execution_count": 9
        }
      ]
    },
    {
      "cell_type": "code",
      "metadata": {
        "id": "GCk_256ee2lR"
      },
      "source": [
        "def shrinkImage(image):\n",
        "  height, _, _ = image.shape\n",
        "  image = image[int(height/2):,:,:]  # remove top half of the image, as it is not relevant for lane following\n",
        "  image = cv2.resize(image, (200,66)) # input image size (200,66) Nvidia model\n",
        "  return image"
      ],
      "execution_count": 10,
      "outputs": []
    },
    {
      "cell_type": "code",
      "metadata": {
        "id": "zd4J7jepfKnO"
      },
      "source": [
        "X = []\n",
        "for image in bigImage:\n",
        "  X.append(shrinkImage(image))\n",
        "del bigImage"
      ],
      "execution_count": 11,
      "outputs": []
    },
    {
      "cell_type": "code",
      "metadata": {
        "id": "UDJwoBO2IuYb"
      },
      "source": [
        "def meanArea(imageClass,box,classID):\n",
        "  index = np.where(imageClass == classID)[0]\n",
        "  areaArray = np.zeros(len(index))\n",
        "  \n",
        "  \n",
        "  for _ in range(len(index)):\n",
        "    idx = index[_]\n",
        "    area = (box[idx][3]-box[idx][1])*(box[idx][2]-box[idx][0])\n",
        "    \n",
        "    areaArray[_] = area\n",
        "\n",
        "    \n",
        "  meanArea = np.mean(areaArray)\n",
        "  return meanArea"
      ],
      "execution_count": 12,
      "outputs": []
    },
    {
      "cell_type": "code",
      "metadata": {
        "id": "QkKJuaa9HqOs"
      },
      "source": [
        "def assignSign(imageClass,box):  \n",
        "  \"\"\"\n",
        "  0 = no sign\n",
        "  1 = right sign\n",
        "  2 = left sign\n",
        "  \"\"\"\n",
        "  if 6 in imageClass:\n",
        "    sign = 1\n",
        "    boxArea = meanArea(imageClass,box,6)\n",
        "  elif 7 in imageClass:\n",
        "    sign = 2\n",
        "    boxArea = meanArea(imageClass,box,7)\n",
        "  elif 6 and 7 in imageClass:\n",
        "    print('AHHHHHHHHHHHHHHHH')\n",
        "  else:\n",
        "    sign = 0\n",
        "    boxArea = 0\n",
        "  return boxArea,sign\n"
      ],
      "execution_count": 13,
      "outputs": []
    },
    {
      "cell_type": "code",
      "metadata": {
        "id": "vhYmOMqnTbBZ"
      },
      "source": [
        "boxList = []\n",
        "signList = []\n",
        "for idx in range(len(classes)):\n",
        "  # boxes,classes = objectDetect(image)\n",
        "  boxArea, sign = assignSign(classes[idx],boxes[idx])\n",
        "  boxList.append(boxArea)\n",
        "  signList.append(sign)"
      ],
      "execution_count": 18,
      "outputs": []
    },
    {
      "cell_type": "markdown",
      "metadata": {
        "id": "mZFMAE90DQWD"
      },
      "source": [
        "# Prepare to input sign information\n",
        "### 6/8 = right_sign\n",
        "### 7/8 = left_sign"
      ]
    },
    {
      "cell_type": "markdown",
      "metadata": {
        "id": "DN4f-rGJML0l"
      },
      "source": [
        "Standard deviation of the angles"
      ]
    },
    {
      "cell_type": "code",
      "metadata": {
        "id": "AI1Gn6MeNBIe"
      },
      "source": [
        "plt.hist(y_angle)\n",
        "statistics.stdev(y_angle)"
      ],
      "execution_count": null,
      "outputs": []
    },
    {
      "cell_type": "code",
      "metadata": {
        "id": "WRL3lMMfbwZa"
      },
      "source": [
        "def pan(image):\n",
        "    # pan left / right / up / down about 10%\n",
        "    pan = img_aug.Affine(translate_percent= {\"x\" : (-0.1, 0.1), \"y\": (-0.1, 0.1)})\n",
        "    image = pan.augment_image(image)\n",
        "    return image\n",
        "    \n",
        "def zoom(image):\n",
        "    zoom = img_aug.Affine(scale=(1, 1.3))  # zoom from 100% (no zoom) to 130%\n",
        "    image = zoom.augment_image(image)\n",
        "    return image\n",
        "\n",
        "def adjust_brightness(image):\n",
        "    # increase or decrease brightness by 30%\n",
        "    brightness = img_aug.Multiply((0.7, 1.3))\n",
        "    image = brightness.augment_image(image)\n",
        "    return image\n",
        "\n",
        "def blur(image):\n",
        "    kernel_size = random.randint(1, 5)  # kernel larger than 5 would make the image way too blurry\n",
        "    image = cv2.blur(image,(kernel_size, kernel_size))\n",
        "   \n",
        "    return image\n",
        "\n",
        "\n",
        "def random_flip(image, steering_angle):\n",
        "    is_flip = random.randint(0, 1)\n",
        "    if is_flip == 1:\n",
        "        # randomly flip horizon\n",
        "        image = cv2.flip(image,1)\n",
        "        steering_angle = 180 - steering_angle\n",
        "   \n",
        "    return image, steering_angle"
      ],
      "execution_count": 19,
      "outputs": []
    },
    {
      "cell_type": "code",
      "metadata": {
        "id": "-k9m29RzXlVg"
      },
      "source": [
        "def random_augment(image, steering_angle):\n",
        "  \n",
        "    if np.random.rand() < 0.5:\n",
        "        image = pan(image)\n",
        "    if np.random.rand() < 0.5:\n",
        "        image = zoom(image)\n",
        "    if np.random.rand() < 0.5:\n",
        "        image = blur(image)\n",
        "    if np.random.rand() < 0.5:\n",
        "        image = adjust_brightness(image)\n",
        "    image, steering_angle = random_flip(image, steering_angle)\n",
        "    \n",
        "    return image, steering_angle\n",
        "# imageId = np.array(imageId)"
      ],
      "execution_count": 20,
      "outputs": []
    },
    {
      "cell_type": "code",
      "metadata": {
        "id": "g8NzgqqfXmdj"
      },
      "source": [
        "smallAngles=(np.where(np.array(y_angle)<0.5)[0])\n",
        "largeAngles=(np.where(np.array(y_angle)>=0.8)[0])\n",
        "tinyAngles=(np.where(np.array(y_angle)<0.3)[0])\n",
        "hugeAngles=(np.where(np.array(y_angle)>=0.9)[0])\n",
        "augmentedImages = []\n",
        "augmentedAngles = []\n",
        "augmentedID = []\n",
        "augmentedBoxes = []\n",
        "augmentedClasses = []\n",
        "for idx in smallAngles:\n",
        "  image, angle = random_augment(X[idx], y_angle[idx])\n",
        "  augmentedImages.append(image)\n",
        "  augmentedAngles.append(angle)\n",
        "  augmentedID.append(imageId[idx])\n",
        "  augmentedClasses.append(signList[idx])\n",
        "  augmentedBoxes.append(boxList[idx])"
      ],
      "execution_count": 21,
      "outputs": []
    },
    {
      "cell_type": "code",
      "metadata": {
        "id": "OAh4Qm3InEa6"
      },
      "source": [
        "for idx in hugeAngles:\n",
        "  for _ in range(4):\n",
        "    image, angle = random_augment(X[idx], y_angle[idx])\n",
        "    augmentedImages.append(image)\n",
        "    augmentedAngles.append(angle)\n",
        "    augmentedID.append(imageId[idx])\n",
        "    augmentedClasses.append(signList[idx])\n",
        "    augmentedBoxes.append(boxList[idx])"
      ],
      "execution_count": 22,
      "outputs": []
    },
    {
      "cell_type": "code",
      "metadata": {
        "id": "u_W1wyaojEjC"
      },
      "source": [
        "for idx in tinyAngles:\n",
        "  for _ in range(4):\n",
        "    image, angle = random_augment(X[idx], y_angle[idx])\n",
        "    augmentedImages.append(image)\n",
        "    augmentedAngles.append(angle)\n",
        "    augmentedID.append(imageId[idx])\n",
        "    augmentedClasses.append(signList[idx])\n",
        "    augmentedBoxes.append(boxList[idx])"
      ],
      "execution_count": 23,
      "outputs": []
    },
    {
      "cell_type": "code",
      "metadata": {
        "id": "mBTwL_FSc29o"
      },
      "source": [
        "for idx in largeAngles:\n",
        "  image, angle = random_augment(X[idx], y_angle[idx])\n",
        "  augmentedImages.append(image)\n",
        "  augmentedAngles.append(angle)\n",
        "  augmentedID.append(imageId[idx])\n",
        "  augmentedClasses.append(signList[idx])\n",
        "  augmentedBoxes.append(boxList[idx])"
      ],
      "execution_count": 24,
      "outputs": []
    },
    {
      "cell_type": "markdown",
      "metadata": {
        "id": "iNG3bBHRdwWd"
      },
      "source": [
        "Hist before augmentation"
      ]
    },
    {
      "cell_type": "code",
      "metadata": {
        "id": "_WIHzvBWdvIj",
        "colab": {
          "base_uri": "https://localhost:8080/",
          "height": 282
        },
        "outputId": "a3bd6af7-96b0-4994-e1ce-bb6149f0dcf4"
      },
      "source": [
        "plt.hist(y_angle)\n",
        "statistics.stdev(y_angle)"
      ],
      "execution_count": 25,
      "outputs": [
        {
          "output_type": "execute_result",
          "data": {
            "text/plain": [
              "0.15555820377620497"
            ]
          },
          "metadata": {
            "tags": []
          },
          "execution_count": 25
        },
        {
          "output_type": "display_data",
          "data": {
            "image/png": "[encoded data removed]",
            "text/plain": [
              "<Figure size 432x288 with 1 Axes>"
            ]
          },
          "metadata": {
            "tags": [],
            "needs_background": "light"
          }
        }
      ]
    },
    {
      "cell_type": "markdown",
      "metadata": {
        "id": "GhRi4RcWd18_"
      },
      "source": [
        "Hist after augmentation"
      ]
    },
    {
      "cell_type": "code",
      "metadata": {
        "id": "ZMUzEaSdd1SD"
      },
      "source": [
        "for idx in range(len(augmentedAngles)):\n",
        "  y_angle.append(augmentedAngles[idx])\n",
        "  X.append(augmentedImages[idx])\n",
        "  imageId.append(augmentedID[idx])\n",
        "  boxList.append(augmentedBoxes[idx])\n",
        "  signList.append(augmentedClasses[idx])"
      ],
      "execution_count": 26,
      "outputs": []
    },
    {
      "cell_type": "code",
      "metadata": {
        "id": "ofJ9GNwQfWUV",
        "colab": {
          "base_uri": "https://localhost:8080/",
          "height": 178
        },
        "outputId": "62aafa4a-950e-4a70-db21-6ea6b750c378"
      },
      "source": [
        "plt.hist(np.array(y_angle))\n",
        "statistics.stdev(y_angle)"
      ],
      "execution_count": 76,
      "outputs": [
        {
          "output_type": "error",
          "ename": "NameError",
          "evalue": "ignored",
          "traceback": [
            "\u001b[0;31m---------------------------------------------------------------------------\u001b[0m",
            "\u001b[0;31mNameError\u001b[0m                                 Traceback (most recent call last)",
            "\u001b[0;32m<ipython-input-76-bcf8599dfd6c>\u001b[0m in \u001b[0;36m<module>\u001b[0;34m()\u001b[0m\n\u001b[0;32m----> 1\u001b[0;31m \u001b[0mplt\u001b[0m\u001b[0;34m.\u001b[0m\u001b[0mhist\u001b[0m\u001b[0;34m(\u001b[0m\u001b[0mnp\u001b[0m\u001b[0;34m.\u001b[0m\u001b[0marray\u001b[0m\u001b[0;34m(\u001b[0m\u001b[0my_angle\u001b[0m\u001b[0;34m)\u001b[0m\u001b[0;34m)\u001b[0m\u001b[0;34m\u001b[0m\u001b[0;34m\u001b[0m\u001b[0m\n\u001b[0m\u001b[1;32m      2\u001b[0m \u001b[0mstatistics\u001b[0m\u001b[0;34m.\u001b[0m\u001b[0mstdev\u001b[0m\u001b[0;34m(\u001b[0m\u001b[0my_angle\u001b[0m\u001b[0;34m)\u001b[0m\u001b[0;34m\u001b[0m\u001b[0;34m\u001b[0m\u001b[0m\n",
            "\u001b[0;31mNameError\u001b[0m: name 'y_angle' is not defined"
          ]
        }
      ]
    },
    {
      "cell_type": "markdown",
      "metadata": {
        "id": "azXvmnZIxwvy"
      },
      "source": [
        "Now we can find how many duplicate angles there exist in the y_angles"
      ]
    },
    {
      "cell_type": "code",
      "metadata": {
        "id": "ytzQZ6vVyNGy"
      },
      "source": [
        "# (unique, counts) = np.unique(y_angle, return_counts=True)"
      ],
      "execution_count": null,
      "outputs": []
    },
    {
      "cell_type": "code",
      "metadata": {
        "id": "novfjtpJzfxY"
      },
      "source": [
        "# print(\"Unique angles =\",len(unique))\n",
        "# print(\"The total length of the angle array is\",len(y_angle))"
      ],
      "execution_count": null,
      "outputs": []
    },
    {
      "cell_type": "code",
      "metadata": {
        "id": "ILuH5H0m0ZL6"
      },
      "source": [
        "# print( np.asarray((unique, counts)).T )"
      ],
      "execution_count": null,
      "outputs": []
    },
    {
      "cell_type": "code",
      "metadata": {
        "id": "QHq22Sa7ADQz"
      },
      "source": [
        "# print(y_angle)\n",
        "# print(imageId)"
      ],
      "execution_count": null,
      "outputs": []
    },
    {
      "cell_type": "markdown",
      "metadata": {
        "id": "TgwIYCf91GIg"
      },
      "source": [
        "The fact that there are only 17 angles allows us to only use some images"
      ]
    },
    {
      "cell_type": "code",
      "metadata": {
        "id": "UopdowkSSTNi"
      },
      "source": [
        "X_new = X\n",
        "y_angle_new = y_angle\n",
        "idImage = imageId\n",
        "del X\n",
        "del y_angle\n",
        "del imageId"
      ],
      "execution_count": 27,
      "outputs": []
    },
    {
      "cell_type": "code",
      "metadata": {
        "id": "11h4n49QZ8Aw"
      },
      "source": [
        "X_new = np.array(X_new)\n",
        "y_angle_new = np.array(y_angle_new)\n",
        "idImage = np.array(idImage)\n",
        "signArray = np.array(signList)\n",
        "boxArray = np.array(boxList)\n",
        "# print(X_new.shape)\n",
        "# print(y_angle_new.shape)\n",
        "# print(idImage.shape)"
      ],
      "execution_count": 28,
      "outputs": []
    },
    {
      "cell_type": "markdown",
      "metadata": {
        "id": "zsr6OUWipy7l"
      },
      "source": [
        "Preprocces images to scale, normalize change RGB to YUV and add gaussian noise"
      ]
    },
    {
      "cell_type": "code",
      "metadata": {
        "id": "e-Fy5sMpE01m"
      },
      "source": [
        "def img_preprocess(image):\n",
        "    height, _, _ = image.shape\n",
        "\n",
        "    # in the case that there exists an object in the image of interest DO NOT MAKE reduce the height of the image!!\n",
        "\n",
        "    # image = image[int(height/2):,:,:]  # remove top half of the image, as it is not relevant for lane following\n",
        "    image = cv2.cvtColor(image, cv2.COLOR_BGR2YUV)  # Nvidia model said it is best to use YUV color space\n",
        "    image = cv2.GaussianBlur(image, (3,3), 0) # Gaussian Noise / filtering\n",
        "    # image = cv2.resize(image, (200,66)) # input image size (200,66) Nvidia model\n",
        "    image = image / 255 # normalizing\n",
        "    # Round everything into the image to 1 decimal place\n",
        "    image = np.around(image ,2)\n",
        "    return image"
      ],
      "execution_count": 29,
      "outputs": []
    },
    {
      "cell_type": "code",
      "metadata": {
        "id": "II_uY56MpqJK"
      },
      "source": [
        "X_final = []\n",
        "for img_index in range(X_new.shape[0] ):\n",
        "  X_f = img_preprocess(X_new[img_index,:,:,:])\n",
        "  X_final.append(X_f)"
      ],
      "execution_count": 30,
      "outputs": []
    },
    {
      "cell_type": "code",
      "metadata": {
        "id": "CB1BaRBjrUPn"
      },
      "source": [
        "X_final = np.array(X_final)\n",
        "# X_final = np.array(X_final, dtype=np.float16)"
      ],
      "execution_count": 31,
      "outputs": []
    },
    {
      "cell_type": "code",
      "metadata": {
        "id": "uIZ7iWssLznq"
      },
      "source": [
        "X_box_inputs = (np.vstack([signArray,boxArray])).T"
      ],
      "execution_count": 63,
      "outputs": []
    },
    {
      "cell_type": "code",
      "metadata": {
        "colab": {
          "base_uri": "https://localhost:8080/"
        },
        "id": "uR5F2SzMM1w-",
        "outputId": "57695b68-9003-4871-99f7-0bc8a8e992d0"
      },
      "source": [
        "X_box_inputs.shape"
      ],
      "execution_count": 64,
      "outputs": [
        {
          "output_type": "execute_result",
          "data": {
            "text/plain": [
              "(19794, 2)"
            ]
          },
          "metadata": {
            "tags": []
          },
          "execution_count": 64
        }
      ]
    },
    {
      "cell_type": "markdown",
      "metadata": {
        "id": "AngAeTNDHAzJ"
      },
      "source": [
        "Create a test dataset to ensure that we do not overfit"
      ]
    },
    {
      "cell_type": "code",
      "metadata": {
        "id": "6tCXVgZHGrMU"
      },
      "source": [
        "from keras.layers import *\n",
        "X_train_image, X_test_image, X_train_box, X_test_box, y_train, y_test = train_test_split(X_final, X_box_inputs, y_angle_new, test_size=0.1, random_state=42)"
      ],
      "execution_count": 65,
      "outputs": []
    },
    {
      "cell_type": "code",
      "metadata": {
        "id": "vYqq08muoicX"
      },
      "source": [
        "# #shuffle x and y together\n",
        "# perms = np.random.permutation(len(X_final))\n",
        "# X_train = X_final[perms]\n",
        "# y_train = y_angle_new[perms]"
      ],
      "execution_count": null,
      "outputs": []
    },
    {
      "cell_type": "code",
      "metadata": {
        "id": "lQSArvBRVDG3"
      },
      "source": [
        "del y_angle_new\n",
        "del X_final"
      ],
      "execution_count": null,
      "outputs": []
    },
    {
      "cell_type": "code",
      "metadata": {
        "id": "KzmwoMX69ZJh"
      },
      "source": [
        "# plt.imshow(X_train[22])#,:,:,:])\n",
        "# print(y_train[22])\n",
        "# #print(idImage[21])"
      ],
      "execution_count": null,
      "outputs": []
    },
    {
      "cell_type": "code",
      "metadata": {
        "id": "T3QsocHmqtdI",
        "colab": {
          "base_uri": "https://localhost:8080/"
        },
        "outputId": "c7125af7-7d06-4111-dc79-e5c2c08937a8"
      },
      "source": [
        "# print(X_train.shape)\n",
        "tf_y_train = tf.reshape(y_train,[ y_train.shape[0] ,1 ]).numpy()\n",
        "print(y_train.shape)\n",
        "print(tf_y_train.shape)"
      ],
      "execution_count": 67,
      "outputs": [
        {
          "output_type": "stream",
          "text": [
            "(17814,)\n",
            "(17814, 1)\n"
          ],
          "name": "stdout"
        }
      ]
    },
    {
      "cell_type": "code",
      "metadata": {
        "id": "61SLT46a73_o"
      },
      "source": [
        "from keras.models import *\n",
        "def scalar_model():\n",
        "  # model = Sequential(name='angle input')\n",
        "  input = Input(shape=(X_train_box.shape[1]))\n",
        "  x= (Dense(1,activation ='relu'))(input)\n",
        "  x = Dense(100,activation ='relu')(x)\n",
        "  # x = Dense(200,activation ='relu')(x)\n",
        "  # x = (Dense(50, activation = 'relu'))(x)\n",
        "  output = x\n",
        "  model = Model(inputs=input,outputs=output)\n",
        "  return model\n",
        "\n",
        "scalar_model = scalar_model()\n",
        "# angle_top_model.summary()"
      ],
      "execution_count": 68,
      "outputs": []
    },
    {
      "cell_type": "code",
      "metadata": {
        "id": "zTCGDtJKFV3N"
      },
      "source": [
        "def nvidia_top_model():\n",
        "    \n",
        "    \n",
        "    # elu=Exponential Linear Unit, similar to leaky Relu\n",
        "    # skipping 1st hiddel layer (nomralization layer), as we have normalized the data\n",
        "    \n",
        "    # Convolution Layers\n",
        "    inputs = Input(shape=(X_train_image.shape[1], X_train_image.shape[2], X_train_image.shape[3]))\n",
        "    x = BatchNormalization()(inputs)\n",
        "    x = (Conv2D(24, (5, 5), strides=(2, 2), activation='elu',))(x)#(inputs)# input_shape=(X_train.shape[1], X_train.shape[2], X_train.shape[3]), activation='elu')) \n",
        "    x = (Conv2D(36, (5, 5), strides=(2, 2), activation='elu'))(x)\n",
        "    x = MaxPooling2D(padding='same')(x)\n",
        "    x = (Conv2D(48, (5, 5), strides=(2, 2), activation='elu'))(x)\n",
        "    # x = MaxPooling2D(padding='same')(x)\n",
        "    x = (Conv2D(64, (2, 2), activation='elu'))(x) \n",
        "    #model.add(Dropout(0.2)) # not in original model. added for more robustness\n",
        "    x = (Conv2D(64, (1, 1), activation='elu'))(x)  \n",
        "    \n",
        "    # Fully Connected Layers\n",
        "    x = (Flatten())(x)\n",
        "    x = (Dense(200, activation='elu'))(x)\n",
        "\n",
        "    x = (Dropout(0.1))(x) # not in original model. added for more robustness\n",
        "    x = (Dense(100, activation='elu'))(x)\n",
        "    #model.add(Dense(100, activation='elu'))\n",
        "    # x = (Dropout(0.1))(x)\n",
        "    # x = (Dense(50, activation='elu'))(x)\n",
        "    #model.add(Dense(50, activation='elu'))\n",
        "    #model.add(Dropout(0.05))\n",
        "    # x = (Dense(10, activation='elu'))(x)\n",
        "    outputs = x\n",
        "    #model.add(Dense(10, activation='elu'))\n",
        "    \n",
        "    model = Model(inputs=inputs, outputs=outputs )\n",
        "    return model\n",
        "\n",
        "nvidia_top_model = nvidia_top_model()\n",
        "print(nvidia_top_model.summary())"
      ],
      "execution_count": null,
      "outputs": []
    },
    {
      "cell_type": "code",
      "metadata": {
        "id": "gz62uNcFLDtr"
      },
      "source": [
        "mergedOut = Add()([nvidia_top_model.output,scalar_model.output])\n",
        "\n",
        "mergedOut = Flatten()(mergedOut)    \n",
        "# mergedOut = Dense(50, activation='relu')(mergedOut)\n",
        "# mergedOut = Dense(200, activation='elu')(mergedOut)\n",
        "mergedOut = Dense(100, activation='elu')(mergedOut)\n",
        "mergedOut = Dense(50, activation='elu')(mergedOut)\n",
        "mergedOut = Dense(10, activation='elu')(mergedOut)\n",
        "# mergedOut = Dropout(.1)(mergedOut)\n",
        "# mergedOut = Dense(5, activation='relu')(mergedOut)\n",
        "# mergedOut = Dropout(.1)(mergedOut)\n",
        "\n",
        "# output layer\n",
        "mergedOut = Dense(1)(mergedOut)"
      ],
      "execution_count": 70,
      "outputs": []
    },
    {
      "cell_type": "code",
      "metadata": {
        "id": "JbrqmqJU8Kog"
      },
      "source": [
        "from keras.models import Model\n",
        "\n",
        "mergeModel = Model([nvidia_top_model.input, scalar_model.input], mergedOut)\n",
        "optimizer = Adam(lr=1e-3)\n",
        "mergeModel.compile(loss='mse',\n",
        "                  optimizer=optimizer               \n",
        "                  )\n",
        "mergeModel.summary()"
      ],
      "execution_count": null,
      "outputs": []
    },
    {
      "cell_type": "code",
      "metadata": {
        "id": "TDJb-B6M8KzA"
      },
      "source": [
        "monitor = EarlyStopping(monitor='val_loss', min_delta=1e-3, \n",
        "        patience=7, verbose=1, mode='auto',\n",
        "        restore_best_weights=True)\n",
        "mergeModel.fit([X_train_image,X_train_box], tf_y_train, batch_size=128, epochs=100, validation_split=0.2,callbacks=[monitor])  "
      ],
      "execution_count": null,
      "outputs": []
    },
    {
      "cell_type": "code",
      "metadata": {
        "colab": {
          "base_uri": "https://localhost:8080/"
        },
        "id": "PRPJYPVA8YpF",
        "outputId": "d21f8ba6-2430-47f4-b063-01354b464e7f"
      },
      "source": [
        "mergeModel.evaluate(x=[X_test_image,X_test_box],y=y_test)"
      ],
      "execution_count": 75,
      "outputs": [
        {
          "output_type": "stream",
          "text": [
            "62/62 [==============================] - 1s 10ms/step - loss: 0.0113\n"
          ],
          "name": "stdout"
        },
        {
          "output_type": "execute_result",
          "data": {
            "text/plain": [
              "0.011269586160779"
            ]
          },
          "metadata": {
            "tags": []
          },
          "execution_count": 75
        }
      ]
    },
    {
      "cell_type": "code",
      "metadata": {
        "id": "U7mfrHwK589j"
      },
      "source": [
        "# model.save(os.path.join(path,'Angle_prediction_model.h5'))"
      ],
      "execution_count": null,
      "outputs": []
    },
    {
      "cell_type": "code",
      "metadata": {
        "id": "IFugzsUCWD6x"
      },
      "source": [
        "steering_angle = model.predict(X_test)"
      ],
      "execution_count": null,
      "outputs": []
    },
    {
      "cell_type": "code",
      "metadata": {
        "id": "MKF5Qh9fnhuQ",
        "colab": {
          "base_uri": "https://localhost:8080/"
        },
        "outputId": "e4887c6c-b214-4071-9ee6-c70b43af784b"
      },
      "source": [
        "gc.collect()"
      ],
      "execution_count": null,
      "outputs": [
        {
          "output_type": "execute_result",
          "data": {
            "text/plain": [
              "13819"
            ]
          },
          "metadata": {
            "tags": []
          },
          "execution_count": 128
        }
      ]
    },
    {
      "cell_type": "code",
      "metadata": {
        "id": "3MzJRyCqzBvW"
      },
      "source": [
        "steering_angle = np.around(steering_angle,4)"
      ],
      "execution_count": null,
      "outputs": []
    },
    {
      "cell_type": "code",
      "metadata": {
        "id": "tROShvSvzIPL"
      },
      "source": [
        "errors = []\n",
        "indexes=[]\n",
        "for _ in range(len(y_test)):\n",
        "  errors.append(y_test[_]-steering_angle[_])\n",
        "  indexes.append(_)"
      ],
      "execution_count": null,
      "outputs": []
    },
    {
      "cell_type": "code",
      "metadata": {
        "id": "VSGH2RkV0F56"
      },
      "source": [
        "frame = pd.DataFrame([errors,indexes,y_test,steering_angle]).T"
      ],
      "execution_count": null,
      "outputs": []
    },
    {
      "cell_type": "code",
      "metadata": {
        "colab": {
          "base_uri": "https://localhost:8080/"
        },
        "id": "2I09pbqc1XjE",
        "outputId": "235d2945-9f98-4bc2-b2d7-91e04671f786"
      },
      "source": [
        "y_test"
      ],
      "execution_count": null,
      "outputs": [
        {
          "output_type": "execute_result",
          "data": {
            "text/plain": [
              "array([0.1875, 0.125 , 0.5625, ..., 0.625 , 0.    , 0.8125])"
            ]
          },
          "metadata": {
            "tags": []
          },
          "execution_count": 66
        }
      ]
    },
    {
      "cell_type": "code",
      "metadata": {
        "id": "i4Quczh60SJ2"
      },
      "source": [
        "frame.columns=['errors','indexes','y_test','y_pred']\n",
        "frame.sort_values(\"errors\",inplace=True)\n",
        "frame.set_index(\"indexes\",inplace=True)\n",
        "frame.head(40)"
      ],
      "execution_count": null,
      "outputs": []
    },
    {
      "cell_type": "code",
      "metadata": {
        "colab": {
          "base_uri": "https://localhost:8080/",
          "height": 178
        },
        "id": "Y0dWesBk1rKI",
        "outputId": "e620bbbb-dbad-43e7-fba2-659070d0b115"
      },
      "source": [
        "plt.imshow(X_test[1326])"
      ],
      "execution_count": null,
      "outputs": [
        {
          "output_type": "execute_result",
          "data": {
            "text/plain": [
              "<matplotlib.image.AxesImage at 0x7f7957d54150>"
            ]
          },
          "metadata": {
            "tags": []
          },
          "execution_count": 80
        },
        {
          "output_type": "display_data",
          "data": {
            "image/png": "[encoded data removed]",
            "text/plain": [
              "<Figure size 432x288 with 1 Axes>"
            ]
          },
          "metadata": {
            "tags": [],
            "needs_background": "light"
          }
        }
      ]
    },
    {
      "cell_type": "code",
      "metadata": {
        "id": "u6iHnE1yXBh8"
      },
      "source": [
        "for i in range(y_test.shape[0]):  \n",
        "  #print([steering_angle[i][0], tf_y_angle[i][0]])\n",
        "  print([steering_angle[i][0], y_test[i] ])"
      ],
      "execution_count": null,
      "outputs": []
    },
    {
      "cell_type": "code",
      "metadata": {
        "colab": {
          "base_uri": "https://localhost:8080/",
          "height": 335
        },
        "id": "u8DWQcuLXWZa",
        "outputId": "f3ada706-d533-46bb-908c-706717eef45b"
      },
      "source": [
        "plt.hist(y_angle_new)"
      ],
      "execution_count": null,
      "outputs": [
        {
          "output_type": "execute_result",
          "data": {
            "text/plain": [
              "(array([ 528., 1182.,  624., 1282., 2934., 3655., 3970., 2123., 2896.,\n",
              "         200.]),\n",
              " array([0. , 0.1, 0.2, 0.3, 0.4, 0.5, 0.6, 0.7, 0.8, 0.9, 1. ]),\n",
              " <a list of 10 Patch objects>)"
            ]
          },
          "metadata": {
            "tags": []
          },
          "execution_count": 43
        },
        {
          "output_type": "display_data",
          "data": {
            "image/png": "[encoded data removed]",
            "text/plain": [
              "<Figure size 432x288 with 1 Axes>"
            ]
          },
          "metadata": {
            "tags": [],
            "needs_background": "light"
          }
        }
      ]
    },
    {
      "cell_type": "markdown",
      "metadata": {
        "id": "JM8rZ_tsVErl"
      },
      "source": [
        "Calculate the Mean squared error"
      ]
    },
    {
      "cell_type": "code",
      "metadata": {
        "colab": {
          "base_uri": "https://localhost:8080/"
        },
        "id": "NuMrW57kVDtt",
        "outputId": "1bf87e50-bc71-4e24-e89a-c3da9962bae3"
      },
      "source": [
        "mseSum = 0\n",
        "print(y_test.shape[0])\n",
        "for i in range(y_test.shape[0]):\n",
        "  mseSum += (1/y_test.shape[0] ) *  (steering_angle[i][0] - y_test[i])**2\n",
        "print(mseSum)"
      ],
      "execution_count": null,
      "outputs": [
        {
          "output_type": "stream",
          "text": [
            "1980\n",
            "0.012001457926274885\n"
          ],
          "name": "stdout"
        }
      ]
    },
    {
      "cell_type": "code",
      "metadata": {
        "id": "prH-bsTHprU2"
      },
      "source": [
        "model.save(os.path.join(path,'Angle_prediction_model.h5'))"
      ],
      "execution_count": null,
      "outputs": []
    },
    {
      "cell_type": "code",
      "metadata": {
        "id": "idYlPkdaSN24"
      },
      "source": [
        "del model"
      ],
      "execution_count": null,
      "outputs": []
    },
    {
      "cell_type": "code",
      "metadata": {
        "id": "6prK2hyYsXJC"
      },
      "source": [
        "model = load_model(path+'/Angle_prediction_model.h5')"
      ],
      "execution_count": null,
      "outputs": []
    },
    {
      "cell_type": "markdown",
      "metadata": {
        "id": "sz68hBEbwaSs"
      },
      "source": [
        "Now save the model output"
      ]
    },
    {
      "cell_type": "code",
      "metadata": {
        "id": "FhLfjNZawcqG"
      },
      "source": [
        "#import os\n",
        "# always save model output as soon as model finishes training\n",
        "#model.save(os.path.join(path,'angle_prediction.h5'))"
      ],
      "execution_count": null,
      "outputs": []
    },
    {
      "cell_type": "code",
      "metadata": {
        "id": "98lT73S6l6FH"
      },
      "source": [
        "# model = Sequential()\n",
        "\n",
        "# model.add(Conv2D(32, (3, 3), input_shape=X.shape[1:]))\n",
        "# model.add(Activation('relu'))\n",
        "# model.add(MaxPooling2D(pool_size=(2, 2)))\n",
        "\n",
        "# model.add(Conv2D(32, (3, 3)))\n",
        "# model.add(Activation('relu'))\n",
        "# model.add(MaxPooling2D(pool_size=(2, 2)))\n",
        "\n",
        "# model.add(Flatten())  # this converts our 3D feature maps to 1D feature vectors\n",
        "\n",
        "# model.add(Dense(32))\n",
        "\n",
        "# model.add(Dense(1))\n",
        "# model.add(Activation('sigmoid'))\n",
        "\n",
        "# model.compile(loss='binary_crossentropy',\n",
        "#               optimizer='adam',\n",
        "#               metrics=['accuracy'])\n",
        "\n",
        "# model.fit(X, y_speed, batch_size=32, epochs=2, validation_split=0.8)"
      ],
      "execution_count": null,
      "outputs": []
    },
    {
      "cell_type": "markdown",
      "metadata": {
        "id": "ce6_nPCcS_Qm"
      },
      "source": [
        "Run the same model as above for angle prediction but change the loss function since we do not have classification. ALso accuracy is not a term to measure."
      ]
    },
    {
      "cell_type": "code",
      "metadata": {
        "id": "zCeEN-rkkr-Y"
      },
      "source": [
        "#y_angle"
      ],
      "execution_count": null,
      "outputs": []
    },
    {
      "cell_type": "code",
      "metadata": {
        "id": "fpfoFSn5Td66"
      },
      "source": [
        "# model = Sequential()\n",
        "\n",
        "# model.add(Conv2D(32, (3, 3), input_shape=X.shape[1:]))\n",
        "# model.add(Activation('relu'))\n",
        "# model.add(MaxPooling2D(pool_size=(2, 2)))\n",
        "\n",
        "# model.add(Conv2D(32, (3, 3)))\n",
        "# model.add(Activation('relu'))\n",
        "# model.add(MaxPooling2D(pool_size=(2, 2)))\n",
        "\n",
        "# model.add(Flatten())  # this converts our 3D feature maps to 1D feature vectors\n",
        "\n",
        "# model.add(Dense(64))\n",
        "\n",
        "# model.add(Dense(1))\n",
        "# model.add(Activation('sigmoid'))\n",
        "\n",
        "# model.compile(loss='mean_squared_error',\n",
        "#               optimizer='adam')\n",
        "\n",
        "# model.fit(X, y_angle, batch_size=32, epochs=2, validation_split=0.95)"
      ],
      "execution_count": null,
      "outputs": []
    }
  ]
}
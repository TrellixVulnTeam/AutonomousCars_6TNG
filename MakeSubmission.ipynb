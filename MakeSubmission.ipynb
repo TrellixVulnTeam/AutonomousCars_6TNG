{
  "nbformat": 4,
  "nbformat_minor": 0,
  "metadata": {
    "colab": {
      "name": "MakeSubmission.ipynb",
      "provenance": [],
      "collapsed_sections": []
    },
    "kernelspec": {
      "name": "python3",
      "display_name": "Python 3"
    },
    "language_info": {
      "name": "python"
    }
  },
  "cells": [
    {
      "cell_type": "code",
      "metadata": {
        "colab": {
          "base_uri": "https://localhost:8080/"
        },
        "id": "BvdddiNNneMX",
        "outputId": "9f2cff99-48f4-40c9-d623-fc82468f2268"
      },
      "source": [
        "# mount google drive\n",
        "from google.colab import drive\n",
        "drive.mount('/content/drive')"
      ],
      "execution_count": 1,
      "outputs": [
        {
          "output_type": "stream",
          "text": [
            "Mounted at /content/drive\n"
          ],
          "name": "stdout"
        }
      ]
    },
    {
      "cell_type": "code",
      "metadata": {
        "id": "QClGs9Ranl5l"
      },
      "source": [
        "import tensorflow as tf\n",
        "from tensorflow.keras.preprocessing.image import ImageDataGenerator\n",
        "from tensorflow.keras.models import Sequential\n",
        "from tensorflow.keras.layers import Dense, Dropout, Activation, Flatten\n",
        "from tensorflow.keras.layers import Conv2D, MaxPooling2D\n",
        "from tensorflow.keras.callbacks import EarlyStopping\n",
        "from tensorflow.keras.models import load_model\n",
        "from keras.optimizers import Adam\n",
        "\n",
        "import matplotlib.pyplot as plt\n",
        "%matplotlib inline\n",
        "import numpy as np\n",
        "import pandas as pd\n",
        "\n",
        "from sklearn.model_selection import train_test_split \n",
        "from sklearn.utils import shuffle\n",
        "\n",
        "import statistics\n",
        "import gc # Helps to clear up some ram\n",
        "\n",
        "import cv2\n",
        "from numpy import random\n",
        "from imgaug import augmenters as img_aug\n",
        "\n",
        "import math\n",
        "import os"
      ],
      "execution_count": 2,
      "outputs": []
    },
    {
      "cell_type": "code",
      "metadata": {
        "id": "cUVPRZIrnmgx"
      },
      "source": [
        "import pickle\n",
        "\n",
        "path = \"/content/drive/My Drive/AutonomousDriving\"\n",
        "pickle_in = open(path+\"/testColour.pickle\",\"rb\")\n",
        "# Remove binary version\n",
        "testImages = pickle.load(pickle_in)\n",
        "\n",
        "imageId = []\n",
        "bigImage = []\n",
        "\n",
        "\n",
        "for id,image in testImages:\n",
        "  #checking = image\n",
        "  if np.count_nonzero(pd.isnull(image)): \n",
        "    print(\"NA: This image was not read well so we will skip for now\")\n",
        "  else:\n",
        "    imageId.append(id)\n",
        "    bigImage.append(image)"
      ],
      "execution_count": 29,
      "outputs": []
    },
    {
      "cell_type": "code",
      "metadata": {
        "id": "dcdbzDUo4lPv"
      },
      "source": [
        "import pickle\n",
        "\n",
        "path = \"/content/drive/My Drive/AutonomousDriving\"\n",
        "pickle_in = open(path+\"/boxTestNumeric.pickle\",\"rb\")\n",
        "# Remove binary version\n",
        "trainImagesAndLabels = pickle.load(pickle_in)\n",
        "\n",
        "imageIdTest = []\n",
        "boxes = []\n",
        "classes = []\n",
        "for id,appendage in trainImagesAndLabels:\n",
        "    imageIdTest.append(id)\n",
        "    boxes.append(appendage[0])\n",
        "    classes.append(appendage[1])"
      ],
      "execution_count": 20,
      "outputs": []
    },
    {
      "cell_type": "markdown",
      "metadata": {
        "id": "bxkHB4c94oyh"
      },
      "source": [
        "# ANGLE FIRST"
      ]
    },
    {
      "cell_type": "code",
      "metadata": {
        "id": "wjX9IQis4sE6"
      },
      "source": [
        "def shrinkImage(image):\n",
        "  height, _, _ = image.shape\n",
        "  image = image[int(height/2):,:,:]  # remove top half of the image, as it is not relevant for lane following\n",
        "  image = cv2.resize(image, (200,66)) # input image size (200,66) Nvidia model\n",
        "  return image"
      ],
      "execution_count": 21,
      "outputs": []
    },
    {
      "cell_type": "code",
      "metadata": {
        "id": "dPFZvpNf4szS"
      },
      "source": [
        "X = []\n",
        "for image in bigImage:\n",
        "  X.append(shrinkImage(image))"
      ],
      "execution_count": 22,
      "outputs": []
    },
    {
      "cell_type": "code",
      "metadata": {
        "id": "UDJwoBO2IuYb"
      },
      "source": [
        "def meanArea(imageClass,box,classID):\n",
        "  index = np.where(imageClass == classID)[0]\n",
        "  areaArray = np.zeros(len(index))\n",
        "  \n",
        "  \n",
        "  for _ in range(len(index)):\n",
        "    idx = index[_]\n",
        "    area = (box[idx][3]-box[idx][1])*(box[idx][2]-box[idx][0])\n",
        "    \n",
        "    areaArray[_] = area\n",
        "\n",
        "    \n",
        "  meanArea = np.mean(areaArray)\n",
        "  return meanArea"
      ],
      "execution_count": 23,
      "outputs": []
    },
    {
      "cell_type": "code",
      "metadata": {
        "id": "QkKJuaa9HqOs"
      },
      "source": [
        "def assignSign(imageClass,box):  \n",
        "  \"\"\"\n",
        "  0 = no sign\n",
        "  1 = right sign\n",
        "  2 = left sign\n",
        "  \"\"\"\n",
        "  if 6 in imageClass:\n",
        "    sign = 1\n",
        "    boxArea = meanArea(imageClass,box,6)\n",
        "  elif 7 in imageClass:\n",
        "    sign = 2\n",
        "    boxArea = meanArea(imageClass,box,7)\n",
        "  elif 6 and 7 in imageClass:\n",
        "    print('AHHHHHHHHHHHHHHHH')\n",
        "  else:\n",
        "    sign = 0\n",
        "    boxArea = 0\n",
        "  return boxArea,sign\n"
      ],
      "execution_count": 24,
      "outputs": []
    },
    {
      "cell_type": "markdown",
      "metadata": {
        "id": "qPD6rfj994Iz"
      },
      "source": [
        "## here we can check for redlights as well"
      ]
    },
    {
      "cell_type": "code",
      "metadata": {
        "id": "pt9N0XtZ99Ew"
      },
      "source": [
        "def checkRed(imageClass):\n",
        "  if 4 in imageClass:\n",
        "    return True\n",
        "  else:\n",
        "    pass"
      ],
      "execution_count": 25,
      "outputs": []
    },
    {
      "cell_type": "code",
      "metadata": {
        "id": "vhYmOMqnTbBZ"
      },
      "source": [
        "boxList = []\n",
        "signList = []\n",
        "redLightIndexes = []\n",
        "for idx in range(len(classes)):\n",
        "  # boxes,classes = objectDetect(image)\n",
        "  boxArea, sign = assignSign(classes[idx],boxes[idx])\n",
        "  boxList.append(boxArea)\n",
        "  signList.append(sign)\n",
        "  #\n",
        "  #check for reds\n",
        "  if checkRed(classes[idx]):\n",
        "    redLightIndexes.append(idx)\n",
        "  \n"
      ],
      "execution_count": 26,
      "outputs": []
    },
    {
      "cell_type": "code",
      "metadata": {
        "id": "vq0Qr-yI4s2W"
      },
      "source": [
        "X_new = np.array(X)\n",
        "imageId = np.array(imageId)\n",
        "signArray = np.array(signList)\n",
        "boxArray = np.array(boxList)"
      ],
      "execution_count": 37,
      "outputs": []
    },
    {
      "cell_type": "code",
      "metadata": {
        "id": "8jjmG2F44s5h"
      },
      "source": [
        "def img_preprocess(image):\n",
        "    height, _, _ = image.shape\n",
        "    image = cv2.cvtColor(image, cv2.COLOR_BGR2YUV)  # Nvidia model said it is best to use YUV color space\n",
        "    image = cv2.GaussianBlur(image, (3,3), 0) # Gaussian Noise / filtering\n",
        "    image = image / 255 # normalizing\n",
        "    # Round everything into the image to 1 decimal place\n",
        "    image = np.around(image ,2)\n",
        "    return image"
      ],
      "execution_count": 38,
      "outputs": []
    },
    {
      "cell_type": "code",
      "metadata": {
        "id": "JiDICktI46Z2"
      },
      "source": [
        "X_final = []\n",
        "for img_index in range(X_new.shape[0] ):\n",
        "  X_f = img_preprocess(X_new[img_index,:,:,:])\n",
        "  X_final.append(X_f)"
      ],
      "execution_count": 39,
      "outputs": []
    },
    {
      "cell_type": "code",
      "metadata": {
        "id": "8qe_JdmH46ur"
      },
      "source": [
        "X_final = np.array(X_final)\n",
        "X_box_inputs = (np.vstack([signArray,boxArray])).T"
      ],
      "execution_count": 40,
      "outputs": []
    },
    {
      "cell_type": "code",
      "metadata": {
        "id": "vcdHxqb9z0sS"
      },
      "source": [
        "model = load_model(path+'/Angle_prediction_model.h5')"
      ],
      "execution_count": 41,
      "outputs": []
    },
    {
      "cell_type": "code",
      "metadata": {
        "id": "ckYSsADUz0sX"
      },
      "source": [
        "steering_angle = model.predict([X_final,X_box_inputs])"
      ],
      "execution_count": 44,
      "outputs": []
    },
    {
      "cell_type": "markdown",
      "metadata": {
        "id": "Uk6H5P5kYRvo"
      },
      "source": [
        "\n",
        "\n",
        "\n",
        "Object detect for traffic lights and to create data for speed model\n",
        "\n"
      ]
    },
    {
      "cell_type": "markdown",
      "metadata": {
        "id": "SMd0qem0YrOa"
      },
      "source": [
        "# SPEED PREDICTION\n",
        "\n",
        "\n"
      ]
    },
    {
      "cell_type": "code",
      "metadata": {
        "id": "jicwbaNtQQ03"
      },
      "source": [
        "def shrinkImage(image):\n",
        "  image = image[80:240,:,:]  # remove top half of the image, as it is not relevant for lane following\n",
        "  image = cv2.resize(image, (0,0), fx=0.6, fy=0.6)# Need to reduce  size to conserve memory\n",
        "  return image"
      ],
      "execution_count": 45,
      "outputs": []
    },
    {
      "cell_type": "code",
      "metadata": {
        "id": "n1SL9HBWteDs"
      },
      "source": [
        "def img_preprocess(image):\n",
        "    height, width, _ = image.shape\n",
        "\n",
        "    # in the case that there exists an object in the image of interest DO NOT MAKE reduce the height of the image!!\n",
        "    \n",
        "    image = cv2.cvtColor(image, cv2.COLOR_BGR2GRAY)  # Nvidia model said it is best to use YUV color space\n",
        "    # image = cv2.GaussianBlur(image, (3,3), 0) # Gaussian Noise / filtering\n",
        "\n",
        "    image = image / 255 # normalizing\n",
        "    # Round everything into the image to 1 decimal place\n",
        "    image = np.around(image ,2)\n",
        "    return image"
      ],
      "execution_count": 46,
      "outputs": []
    },
    {
      "cell_type": "code",
      "metadata": {
        "id": "AsLolCOvthaO"
      },
      "source": [
        "bigImage = np.array(bigImage)\n",
        "X_final = []\n",
        "\n",
        "\n",
        "for img_index in range(bigImage.shape[0] ):\n",
        "  X_f = shrinkImage(bigImage[img_index])\n",
        "  X_f = img_preprocess(X_f)\n",
        "  X_final.append(X_f)\n",
        "X_final = np.array(X_final)\n",
        "if len(X_final.shape) == 3:\n",
        "  #X_train = tf.reshape(X_train,[ X_train.shape[0],X_train.shape[1],X_train.shape[2] ,1 ]).numpy()\n",
        "  X_final = np.reshape(X_final, (X_final.shape[0],X_final.shape[1],X_final.shape[2] ,1 ) )\n",
        "  #X_train = np.repeat(X_train[..., np.newaxis], 3, -1)"
      ],
      "execution_count": 49,
      "outputs": []
    },
    {
      "cell_type": "code",
      "metadata": {
        "id": "uYRTUfwGpsoQ"
      },
      "source": [
        "model = load_model(path+'/Speed_prediction_model.h5')"
      ],
      "execution_count": 50,
      "outputs": []
    },
    {
      "cell_type": "code",
      "metadata": {
        "colab": {
          "base_uri": "https://localhost:8080/"
        },
        "id": "EUF27N6yL32l",
        "outputId": "92d9c479-e0e9-463d-bb64-46bc0fa49906"
      },
      "source": [
        "steering_angle"
      ],
      "execution_count": 52,
      "outputs": [
        {
          "output_type": "execute_result",
          "data": {
            "text/plain": [
              "array([[0.4033133 ],\n",
              "       [0.62055427],\n",
              "       [0.3821722 ],\n",
              "       ...,\n",
              "       [0.6534792 ],\n",
              "       [0.71967554],\n",
              "       [0.4439296 ]], dtype=float32)"
            ]
          },
          "metadata": {
            "tags": []
          },
          "execution_count": 52
        }
      ]
    },
    {
      "cell_type": "code",
      "metadata": {
        "id": "bXw-zk3Qptwt"
      },
      "source": [
        "speed = model.predict([X_final,steering_angle])"
      ],
      "execution_count": 53,
      "outputs": []
    },
    {
      "cell_type": "code",
      "metadata": {
        "id": "Lyrqrnd7vFj9"
      },
      "source": [
        "speed= np.round(speed,0)"
      ],
      "execution_count": 54,
      "outputs": []
    },
    {
      "cell_type": "code",
      "metadata": {
        "id": "9SR1UggccvCc"
      },
      "source": [
        "for idx in redLightIndexes:\n",
        "  speed[idx] = 0"
      ],
      "execution_count": 55,
      "outputs": []
    },
    {
      "cell_type": "code",
      "metadata": {
        "id": "7mjkd63vql3e"
      },
      "source": [
        "submissionFrame = pd.read_csv(path+\"/Github/AutonomousCars/data/sampleSubmission.csv\")"
      ],
      "execution_count": 56,
      "outputs": []
    },
    {
      "cell_type": "code",
      "metadata": {
        "id": "6dufihluurfj"
      },
      "source": [
        "submissionFrame[\"angle\"] = steering_angle"
      ],
      "execution_count": 57,
      "outputs": []
    },
    {
      "cell_type": "code",
      "metadata": {
        "id": "8tOLS73WuxyM"
      },
      "source": [
        "submissionFrame[\"image_id\"] = imageId"
      ],
      "execution_count": 58,
      "outputs": []
    },
    {
      "cell_type": "code",
      "metadata": {
        "id": "A-xIiczKzXYA"
      },
      "source": [
        "submissionFrame[\"speed\"] = speed"
      ],
      "execution_count": 59,
      "outputs": []
    },
    {
      "cell_type": "code",
      "metadata": {
        "id": "60YCcU1p7diY"
      },
      "source": [
        "submissionFrame.sort_values(by=['image_id'],inplace=True)"
      ],
      "execution_count": 60,
      "outputs": []
    },
    {
      "cell_type": "code",
      "metadata": {
        "id": "ukEDe92D7pJp"
      },
      "source": [
        "submissionFrame.reset_index(inplace=True,drop=True)"
      ],
      "execution_count": 61,
      "outputs": []
    },
    {
      "cell_type": "code",
      "metadata": {
        "id": "sN4qSwl57T0X"
      },
      "source": [
        "submissionFrame.head(20)"
      ],
      "execution_count": null,
      "outputs": []
    },
    {
      "cell_type": "code",
      "metadata": {
        "colab": {
          "base_uri": "https://localhost:8080/"
        },
        "id": "69cSsArsvDp-",
        "outputId": "f5a131f2-ce21-4c8e-8937-09915b051806"
      },
      "source": [
        "%cd /content/drive/My Drive/AutonomousDriving/Github/AutonomousCars/data/"
      ],
      "execution_count": 67,
      "outputs": [
        {
          "output_type": "stream",
          "text": [
            "/content/drive/My Drive/AutonomousDriving/Github/AutonomousCars/data\n"
          ],
          "name": "stdout"
        }
      ]
    },
    {
      "cell_type": "code",
      "metadata": {
        "id": "cOBbMm4hn6_Z"
      },
      "source": [
        "check = pd.read_csv(\"sampleSubmission.csv\")"
      ],
      "execution_count": null,
      "outputs": []
    },
    {
      "cell_type": "code",
      "metadata": {
        "id": "J5j6b7BPqZue"
      },
      "source": [
        "np.mean(check['speed']) > np.mean(submissionFrame['speed'])"
      ],
      "execution_count": null,
      "outputs": []
    },
    {
      "cell_type": "code",
      "metadata": {
        "id": "YZ4cMjaSoGPn"
      },
      "source": [
        "check.head(20)"
      ],
      "execution_count": null,
      "outputs": []
    },
    {
      "cell_type": "code",
      "metadata": {
        "id": "_8PiDk7Vq8kh"
      },
      "source": [
        "submissionFrame.head(75)"
      ],
      "execution_count": null,
      "outputs": []
    },
    {
      "cell_type": "code",
      "metadata": {
        "id": "D-zfGLdevlF6"
      },
      "source": [
        "submissionFrame.to_csv(\"sampleSubmission6.csv\",index=False)"
      ],
      "execution_count": 65,
      "outputs": []
    },
    {
      "cell_type": "code",
      "metadata": {
        "id": "CNCg1mqoce7l"
      },
      "source": [
        "plt.imshow(boxImages[1])"
      ],
      "execution_count": null,
      "outputs": []
    },
    {
      "cell_type": "code",
      "metadata": {
        "colab": {
          "base_uri": "https://localhost:8080/",
          "height": 406
        },
        "id": "iPLwjwv-3QbK",
        "outputId": "7bf097dd-0cc7-40dc-9d9e-e92f6ed51e7c"
      },
      "source": [
        "submissionFrame.head(75)"
      ],
      "execution_count": null,
      "outputs": [
        {
          "output_type": "execute_result",
          "data": {
            "text/html": [
              "<div>\n",
              "<style scoped>\n",
              "    .dataframe tbody tr th:only-of-type {\n",
              "        vertical-align: middle;\n",
              "    }\n",
              "\n",
              "    .dataframe tbody tr th {\n",
              "        vertical-align: top;\n",
              "    }\n",
              "\n",
              "    .dataframe thead th {\n",
              "        text-align: right;\n",
              "    }\n",
              "</style>\n",
              "<table border=\"1\" class=\"dataframe\">\n",
              "  <thead>\n",
              "    <tr style=\"text-align: right;\">\n",
              "      <th></th>\n",
              "      <th>image_id</th>\n",
              "      <th>angle</th>\n",
              "      <th>speed</th>\n",
              "    </tr>\n",
              "  </thead>\n",
              "  <tbody>\n",
              "    <tr>\n",
              "      <th>0</th>\n",
              "      <td>1</td>\n",
              "      <td>0.538020</td>\n",
              "      <td>0.0</td>\n",
              "    </tr>\n",
              "    <tr>\n",
              "      <th>1</th>\n",
              "      <td>2</td>\n",
              "      <td>0.771283</td>\n",
              "      <td>1.0</td>\n",
              "    </tr>\n",
              "    <tr>\n",
              "      <th>2</th>\n",
              "      <td>3</td>\n",
              "      <td>0.165170</td>\n",
              "      <td>1.0</td>\n",
              "    </tr>\n",
              "    <tr>\n",
              "      <th>3</th>\n",
              "      <td>4</td>\n",
              "      <td>0.272043</td>\n",
              "      <td>1.0</td>\n",
              "    </tr>\n",
              "    <tr>\n",
              "      <th>4</th>\n",
              "      <td>5</td>\n",
              "      <td>0.200198</td>\n",
              "      <td>1.0</td>\n",
              "    </tr>\n",
              "    <tr>\n",
              "      <th>...</th>\n",
              "      <td>...</td>\n",
              "      <td>...</td>\n",
              "      <td>...</td>\n",
              "    </tr>\n",
              "    <tr>\n",
              "      <th>70</th>\n",
              "      <td>71</td>\n",
              "      <td>0.461212</td>\n",
              "      <td>1.0</td>\n",
              "    </tr>\n",
              "    <tr>\n",
              "      <th>71</th>\n",
              "      <td>72</td>\n",
              "      <td>0.678628</td>\n",
              "      <td>0.0</td>\n",
              "    </tr>\n",
              "    <tr>\n",
              "      <th>72</th>\n",
              "      <td>73</td>\n",
              "      <td>0.743421</td>\n",
              "      <td>0.0</td>\n",
              "    </tr>\n",
              "    <tr>\n",
              "      <th>73</th>\n",
              "      <td>74</td>\n",
              "      <td>0.697242</td>\n",
              "      <td>0.0</td>\n",
              "    </tr>\n",
              "    <tr>\n",
              "      <th>74</th>\n",
              "      <td>75</td>\n",
              "      <td>0.413759</td>\n",
              "      <td>0.0</td>\n",
              "    </tr>\n",
              "  </tbody>\n",
              "</table>\n",
              "<p>75 rows × 3 columns</p>\n",
              "</div>"
            ],
            "text/plain": [
              "    image_id     angle  speed\n",
              "0          1  0.538020    0.0\n",
              "1          2  0.771283    1.0\n",
              "2          3  0.165170    1.0\n",
              "3          4  0.272043    1.0\n",
              "4          5  0.200198    1.0\n",
              "..       ...       ...    ...\n",
              "70        71  0.461212    1.0\n",
              "71        72  0.678628    0.0\n",
              "72        73  0.743421    0.0\n",
              "73        74  0.697242    0.0\n",
              "74        75  0.413759    0.0\n",
              "\n",
              "[75 rows x 3 columns]"
            ]
          },
          "metadata": {
            "tags": []
          },
          "execution_count": 62
        }
      ]
    },
    {
      "cell_type": "code",
      "metadata": {
        "id": "r2z5_Cz9-In7"
      },
      "source": [
        ""
      ],
      "execution_count": null,
      "outputs": []
    }
  ]
}